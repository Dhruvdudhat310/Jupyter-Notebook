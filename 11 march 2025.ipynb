{
 "cells": [
  {
   "cell_type": "code",
   "execution_count": 1,
   "id": "8d14eb27",
   "metadata": {},
   "outputs": [],
   "source": [
    "x = \"Hello i am learning Python\""
   ]
  },
  {
   "cell_type": "code",
   "execution_count": 2,
   "id": "3b6d0846",
   "metadata": {},
   "outputs": [
    {
     "data": {
      "text/plain": [
       "False"
      ]
     },
     "execution_count": 2,
     "metadata": {},
     "output_type": "execute_result"
    }
   ],
   "source": [
    "x.isupper()                       #check wheather full string is in upper case or not "
   ]
  },
  {
   "cell_type": "code",
   "execution_count": 3,
   "id": "f6d53292",
   "metadata": {},
   "outputs": [
    {
     "data": {
      "text/plain": [
       "False"
      ]
     },
     "execution_count": 3,
     "metadata": {},
     "output_type": "execute_result"
    }
   ],
   "source": [
    "x.islower()                       #check wheather full string is in lower case or not"
   ]
  },
  {
   "cell_type": "code",
   "execution_count": 5,
   "id": "ea3fe2a7",
   "metadata": {
    "scrolled": true
   },
   "outputs": [
    {
     "data": {
      "text/plain": [
       "False"
      ]
     },
     "execution_count": 5,
     "metadata": {},
     "output_type": "execute_result"
    }
   ],
   "source": [
    "x.isupper()"
   ]
  },
  {
   "cell_type": "code",
   "execution_count": 6,
   "id": "0e7eb4d6",
   "metadata": {},
   "outputs": [
    {
     "data": {
      "text/plain": [
       "False"
      ]
     },
     "execution_count": 6,
     "metadata": {},
     "output_type": "execute_result"
    }
   ],
   "source": [
    "x.istitle()                    "
   ]
  },
  {
   "cell_type": "code",
   "execution_count": 7,
   "id": "b65aed9a",
   "metadata": {},
   "outputs": [],
   "source": [
    "a = \"My Name Is Dhruv\""
   ]
  },
  {
   "cell_type": "code",
   "execution_count": 8,
   "id": "ddc741ae",
   "metadata": {},
   "outputs": [
    {
     "data": {
      "text/plain": [
       "True"
      ]
     },
     "execution_count": 8,
     "metadata": {},
     "output_type": "execute_result"
    }
   ],
   "source": [
    "a.istitle()                        #check that after space there is capital letter or not means \"Title\""
   ]
  },
  {
   "cell_type": "code",
   "execution_count": 9,
   "id": "8600e97b",
   "metadata": {},
   "outputs": [
    {
     "data": {
      "text/plain": [
       "True"
      ]
     },
     "execution_count": 9,
     "metadata": {},
     "output_type": "execute_result"
    }
   ],
   "source": [
    "x. isprintable()"
   ]
  },
  {
   "cell_type": "code",
   "execution_count": 10,
   "id": "2255dc26",
   "metadata": {},
   "outputs": [],
   "source": [
    "a = \"Hello\\n\"                          #\\n has a meaning therefor it is not printable "
   ]
  },
  {
   "cell_type": "code",
   "execution_count": 11,
   "id": "361be5a0",
   "metadata": {},
   "outputs": [
    {
     "data": {
      "text/plain": [
       "False"
      ]
     },
     "execution_count": 11,
     "metadata": {},
     "output_type": "execute_result"
    }
   ],
   "source": [
    "a. isprintable()"
   ]
  },
  {
   "cell_type": "code",
   "execution_count": 12,
   "id": "3656275f",
   "metadata": {},
   "outputs": [],
   "source": [
    "a = \"Hello+\"                            #+ don't have any meanig in \" \" commas"
   ]
  },
  {
   "cell_type": "code",
   "execution_count": 13,
   "id": "450d1d2a",
   "metadata": {},
   "outputs": [
    {
     "data": {
      "text/plain": [
       "True"
      ]
     },
     "execution_count": 13,
     "metadata": {},
     "output_type": "execute_result"
    }
   ],
   "source": [
    "a. isprintable()"
   ]
  },
  {
   "cell_type": "code",
   "execution_count": 14,
   "id": "7b8b68fb",
   "metadata": {},
   "outputs": [],
   "source": [
    "y = \"            \"                          # y=\"\"    zero space gives false "
   ]
  },
  {
   "cell_type": "code",
   "execution_count": 15,
   "id": "c75b8aa7",
   "metadata": {},
   "outputs": [
    {
     "data": {
      "text/plain": [
       "True"
      ]
     },
     "execution_count": 15,
     "metadata": {},
     "output_type": "execute_result"
    }
   ],
   "source": [
    "y. isspace()                                #give true when only space is there, with characters it gives false"
   ]
  },
  {
   "cell_type": "code",
   "execution_count": 16,
   "id": "77f79a91",
   "metadata": {},
   "outputs": [
    {
     "data": {
      "text/plain": [
       "'AHello i am learning PythonBHello i am learning PythonC'"
      ]
     },
     "execution_count": 16,
     "metadata": {},
     "output_type": "execute_result"
    }
   ],
   "source": [
    "# In x.join(\"ABC\"), the string itself is split into characters before joining.\n",
    "# In \"#\".join(x), x should be an iterable of strings to be joined.\n",
    "\n",
    "x. join(\"ABC\")"
   ]
  },
  {
   "cell_type": "code",
   "execution_count": 17,
   "id": "5a4543ae",
   "metadata": {},
   "outputs": [
    {
     "data": {
      "text/plain": [
       "'H#e#l#l#o# #i# #a#m# #l#e#a#r#n#i#n#g# #P#y#t#h#o#n'"
      ]
     },
     "execution_count": 17,
     "metadata": {},
     "output_type": "execute_result"
    }
   ],
   "source": [
    "\"#\".join(x)"
   ]
  },
  {
   "cell_type": "code",
   "execution_count": 18,
   "id": "3fc3c474",
   "metadata": {},
   "outputs": [
    {
     "data": {
      "text/plain": [
       "'Hello i am learning Python                        '"
      ]
     },
     "execution_count": 18,
     "metadata": {},
     "output_type": "execute_result"
    }
   ],
   "source": [
    "x. ljust(50)             # 1 agrument greater than string size and perform left justification"
   ]
  },
  {
   "cell_type": "code",
   "execution_count": 19,
   "id": "352cbda7",
   "metadata": {},
   "outputs": [
    {
     "data": {
      "text/plain": [
       "'                        Hello i am learning Python'"
      ]
     },
     "execution_count": 19,
     "metadata": {},
     "output_type": "execute_result"
    }
   ],
   "source": [
    "x. rjust(50)             # 1 agrument greater than string size and perform right justification"
   ]
  },
  {
   "cell_type": "code",
   "execution_count": 20,
   "id": "f6196c2d",
   "metadata": {},
   "outputs": [],
   "source": [
    "x = \"          Hello i am learning Python            \""
   ]
  },
  {
   "cell_type": "code",
   "execution_count": 25,
   "id": "6b0c2b2e",
   "metadata": {},
   "outputs": [
    {
     "name": "stdout",
     "output_type": "stream",
     "text": [
      "Hello i am learning Python\n",
      "          Hello i am learning Python\n",
      "Hello i am learning Python            \n"
     ]
    }
   ],
   "source": [
    "print(x. strip())                #remove space from right and left, but not in between \n",
    "\n",
    "print(x.rstrip())               #remove space from right side only\n",
    "print(x.lstrip())               #remove space from left side only "
   ]
  },
  {
   "cell_type": "code",
   "execution_count": 26,
   "id": "47a50cc5",
   "metadata": {},
   "outputs": [],
   "source": [
    "x = \"Hello I am Learning Python\""
   ]
  },
  {
   "cell_type": "code",
   "execution_count": 27,
   "id": "0ae5fb1f",
   "metadata": {},
   "outputs": [
    {
     "data": {
      "text/plain": [
       "' I am Learning Python'"
      ]
     },
     "execution_count": 27,
     "metadata": {},
     "output_type": "execute_result"
    }
   ],
   "source": [
    "x. removeprefix(\"Hello\")           #remove from start "
   ]
  },
  {
   "cell_type": "code",
   "execution_count": 28,
   "id": "96363ae9",
   "metadata": {},
   "outputs": [
    {
     "data": {
      "text/plain": [
       "'Hello I am Learning '"
      ]
     },
     "execution_count": 28,
     "metadata": {},
     "output_type": "execute_result"
    }
   ],
   "source": [
    "x.  removesuffix(\"Python\")         #remove from end"
   ]
  },
  {
   "cell_type": "code",
   "execution_count": 30,
   "id": "b50e6275",
   "metadata": {},
   "outputs": [
    {
     "data": {
      "text/plain": [
       "'Hezzo I am Learning Python'"
      ]
     },
     "execution_count": 30,
     "metadata": {},
     "output_type": "execute_result"
    }
   ],
   "source": [
    "x.replace(\"l\",\"z\")                 #replace(old,new) replace all old character"
   ]
  },
  {
   "cell_type": "code",
   "execution_count": 31,
   "id": "d51e25cb",
   "metadata": {},
   "outputs": [
    {
     "data": {
      "text/plain": [
       "['Hello', 'I', 'am', 'Learning', 'Python']"
      ]
     },
     "execution_count": 31,
     "metadata": {},
     "output_type": "execute_result"
    }
   ],
   "source": [
    "x. split()                          #divide big string into small substring \n",
    "\n",
    "#x. split(\",\")                      #split string when it encounters \",\""
   ]
  },
  {
   "cell_type": "code",
   "execution_count": 33,
   "id": "6c730baf",
   "metadata": {},
   "outputs": [
    {
     "data": {
      "text/plain": [
       "['He', '', 'o I am Learning Python']"
      ]
     },
     "execution_count": 33,
     "metadata": {},
     "output_type": "execute_result"
    }
   ],
   "source": [
    "#split is the same as lsplit-------there is not any lsplit method in python\n",
    "\n",
    "x.  rsplit(\"l\",2)        #2 referes to number of split \n",
    "\n"
   ]
  },
  {
   "cell_type": "code",
   "execution_count": 34,
   "id": "82b181a2",
   "metadata": {},
   "outputs": [],
   "source": [
    "s = \"\"\"Hello My name is Dhruv\n",
    "I am leraning python\n",
    "In RISE\n",
    "Vadodara Surat\n",
    "\"\"\""
   ]
  },
  {
   "cell_type": "code",
   "execution_count": 35,
   "id": "95579647",
   "metadata": {
    "scrolled": false
   },
   "outputs": [
    {
     "data": {
      "text/plain": [
       "['Hello My name is Dhruv', 'I am leraning python', 'In RISE', 'Vadodara Surat']"
      ]
     },
     "execution_count": 35,
     "metadata": {},
     "output_type": "execute_result"
    }
   ],
   "source": [
    "s. splitlines()              #split by line"
   ]
  },
  {
   "cell_type": "code",
   "execution_count": 41,
   "id": "dd108f3e",
   "metadata": {},
   "outputs": [],
   "source": [
    "s = \"Hello\\nMy\\nname\\nis\\nDhruv\""
   ]
  },
  {
   "cell_type": "code",
   "execution_count": 43,
   "id": "912ae39e",
   "metadata": {},
   "outputs": [
    {
     "data": {
      "text/plain": [
       "['Hello', 'My', 'name', 'is', 'Dhruv']"
      ]
     },
     "execution_count": 43,
     "metadata": {},
     "output_type": "execute_result"
    }
   ],
   "source": [
    "s. splitlines()              #it also split when encounter \\n"
   ]
  },
  {
   "cell_type": "code",
   "execution_count": 44,
   "id": "aab58033",
   "metadata": {},
   "outputs": [
    {
     "data": {
      "text/plain": [
       "'000000000000000000000000Hello I am Learning Python'"
      ]
     },
     "execution_count": 44,
     "metadata": {},
     "output_type": "execute_result"
    }
   ],
   "source": [
    "x. zfill(50)                     #zfill = fill zero "
   ]
  },
  {
   "cell_type": "code",
   "execution_count": 45,
   "id": "282caed1",
   "metadata": {},
   "outputs": [],
   "source": [
    "# List  []\n",
    "# ordered\n",
    "# support index\n",
    "# allow duplicate\n",
    "# mutable (changeable )\n",
    "\n",
    "# Set {}\n",
    "# not ordered\n",
    "# not support index\n",
    "# not allow duplicate\n",
    "# set is mutable, but elemets of set is immutable "
   ]
  },
  {
   "cell_type": "code",
   "execution_count": 46,
   "id": "22df3217",
   "metadata": {},
   "outputs": [],
   "source": [
    "color = [\"Yellow\", \"Black\", \"Brown\", \"Yellow\", \"Orange\", \"Red\", \"Pink\", \"Blue\", \"Purple\"]"
   ]
  },
  {
   "cell_type": "code",
   "execution_count": 48,
   "id": "9eb11f4d",
   "metadata": {},
   "outputs": [
    {
     "data": {
      "text/plain": [
       "'Purple'"
      ]
     },
     "execution_count": 48,
     "metadata": {},
     "output_type": "execute_result"
    }
   ],
   "source": [
    "color[8]      #support indexing"
   ]
  },
  {
   "cell_type": "code",
   "execution_count": 49,
   "id": "49c91e3b",
   "metadata": {},
   "outputs": [],
   "source": [
    "color[2] = \"Magenta\""
   ]
  },
  {
   "cell_type": "code",
   "execution_count": 50,
   "id": "db3a9e5e",
   "metadata": {},
   "outputs": [
    {
     "name": "stdout",
     "output_type": "stream",
     "text": [
      "['Yellow', 'Black', 'Magenta', 'Yellow', 'Orange', 'Red', 'Pink', 'Blue', 'Purple']\n"
     ]
    }
   ],
   "source": [
    "print(color)"
   ]
  },
  {
   "cell_type": "code",
   "execution_count": 53,
   "id": "a58e0304",
   "metadata": {},
   "outputs": [],
   "source": [
    "color. append(\"white\")            #add element in list"
   ]
  },
  {
   "cell_type": "code",
   "execution_count": 54,
   "id": "1a16fa2f",
   "metadata": {},
   "outputs": [
    {
     "name": "stdout",
     "output_type": "stream",
     "text": [
      "['Yellow', 'Black', 'Magenta', 'Yellow', 'Orange', 'Red', 'Pink', 'Blue', 'Purple', 'white', 'white']\n"
     ]
    }
   ],
   "source": [
    "print(color)"
   ]
  },
  {
   "cell_type": "code",
   "execution_count": 55,
   "id": "6a544063",
   "metadata": {},
   "outputs": [
    {
     "data": {
      "text/plain": [
       "2"
      ]
     },
     "execution_count": 55,
     "metadata": {},
     "output_type": "execute_result"
    }
   ],
   "source": [
    "color. count(\"Yellow\")"
   ]
  },
  {
   "cell_type": "code",
   "execution_count": 58,
   "id": "e69e529b",
   "metadata": {},
   "outputs": [
    {
     "data": {
      "text/plain": [
       "0"
      ]
     },
     "execution_count": 58,
     "metadata": {},
     "output_type": "execute_result"
    }
   ],
   "source": [
    "color. index(\"Yellow\")"
   ]
  },
  {
   "cell_type": "code",
   "execution_count": 59,
   "id": "51cbe49d",
   "metadata": {},
   "outputs": [],
   "source": [
    "color. insert(2,\"Maroon\")"
   ]
  },
  {
   "cell_type": "code",
   "execution_count": 60,
   "id": "1c086267",
   "metadata": {},
   "outputs": [
    {
     "name": "stdout",
     "output_type": "stream",
     "text": [
      "['Yellow', 'Black', 'Maroon', 'Magenta', 'Yellow', 'Orange', 'Red', 'Pink', 'Blue', 'Purple', 'white', 'white']\n"
     ]
    }
   ],
   "source": [
    "print(color)"
   ]
  },
  {
   "cell_type": "code",
   "execution_count": 61,
   "id": "d58e4e5d",
   "metadata": {},
   "outputs": [
    {
     "data": {
      "text/plain": [
       "'white'"
      ]
     },
     "execution_count": 61,
     "metadata": {},
     "output_type": "execute_result"
    }
   ],
   "source": [
    "color.pop()         #remove by index"
   ]
  },
  {
   "cell_type": "code",
   "execution_count": 62,
   "id": "8dcfda88",
   "metadata": {},
   "outputs": [
    {
     "data": {
      "text/plain": [
       "'Yellow'"
      ]
     },
     "execution_count": 62,
     "metadata": {},
     "output_type": "execute_result"
    }
   ],
   "source": [
    "color.pop(4)"
   ]
  },
  {
   "cell_type": "code",
   "execution_count": 63,
   "id": "9813c0b0",
   "metadata": {},
   "outputs": [],
   "source": [
    "color.remove(\"Maroon\")                  #remove by value of list"
   ]
  },
  {
   "cell_type": "code",
   "execution_count": 64,
   "id": "67836a11",
   "metadata": {},
   "outputs": [],
   "source": [
    "a = \"My name is Dhruv\"                  #string is immutable in python "
   ]
  },
  {
   "cell_type": "code",
   "execution_count": 65,
   "id": "45f94367",
   "metadata": {},
   "outputs": [
    {
     "data": {
      "text/plain": [
       "'Py name is Dhruv'"
      ]
     },
     "execution_count": 65,
     "metadata": {},
     "output_type": "execute_result"
    }
   ],
   "source": [
    "a.replace(\"M\",\"P\")                     "
   ]
  },
  {
   "cell_type": "code",
   "execution_count": 66,
   "id": "c6bf638b",
   "metadata": {},
   "outputs": [
    {
     "name": "stdout",
     "output_type": "stream",
     "text": [
      "My name is Dhruv\n"
     ]
    }
   ],
   "source": [
    "print(a)                                  #not change at orignal location"
   ]
  },
  {
   "cell_type": "code",
   "execution_count": 67,
   "id": "caee720e",
   "metadata": {},
   "outputs": [],
   "source": [
    "color. reverse()"
   ]
  },
  {
   "cell_type": "code",
   "execution_count": 68,
   "id": "920e820b",
   "metadata": {},
   "outputs": [
    {
     "name": "stdout",
     "output_type": "stream",
     "text": [
      "['white', 'Purple', 'Blue', 'Pink', 'Red', 'Orange', 'Magenta', 'Black', 'Yellow']\n"
     ]
    }
   ],
   "source": [
    "print(color)"
   ]
  },
  {
   "cell_type": "code",
   "execution_count": 70,
   "id": "dacc4af8",
   "metadata": {},
   "outputs": [
    {
     "name": "stdout",
     "output_type": "stream",
     "text": [
      "['Black', 'Blue', 'Magenta', 'Orange', 'Pink', 'Purple', 'Red', 'Yellow', 'white']\n"
     ]
    }
   ],
   "source": [
    "color. sort()\n",
    "print(color)"
   ]
  },
  {
   "cell_type": "code",
   "execution_count": 72,
   "id": "587c42f0",
   "metadata": {},
   "outputs": [
    {
     "name": "stdout",
     "output_type": "stream",
     "text": [
      "['white', 'Yellow', 'Red', 'Purple', 'Pink', 'Orange', 'Magenta', 'Blue', 'Black']\n"
     ]
    }
   ],
   "source": [
    "color. sort(reverse = True)\n",
    "print(color)"
   ]
  },
  {
   "cell_type": "code",
   "execution_count": 74,
   "id": "70647e5a",
   "metadata": {},
   "outputs": [
    {
     "name": "stdout",
     "output_type": "stream",
     "text": [
      "['white', 'Yellow', 'Red', 'Purple', 'Pink', 'Orange', 'Magenta', 'Blue', 'Black', 1, 2, 3, 4, 5, 1, 2, 3, 4, 5]\n"
     ]
    }
   ],
   "source": [
    "list1 = [1, 2, 3, 4, 5]\n",
    "color.extend(list1)\n",
    "print(color)"
   ]
  },
  {
   "cell_type": "code",
   "execution_count": 92,
   "id": "731a4d69",
   "metadata": {},
   "outputs": [
    {
     "name": "stdout",
     "output_type": "stream",
     "text": [
      "['Yellow', 'Black', 'Brown', 'Yellow', 'Orange', 'Red', 'Pink', 'Blue', 'Purple', 'White', 'Hello', 'Hi', 'Bye', 'Hello', 'Hi', 'Bye']\n"
     ]
    }
   ],
   "source": [
    "color.extend([\"Hello\", \"Hi\", \"Bye\"])          # [] is compulsory because extend takes only one argument \n",
    "print(color)"
   ]
  },
  {
   "cell_type": "code",
   "execution_count": 93,
   "id": "592acdec",
   "metadata": {},
   "outputs": [],
   "source": [
    "# deep copy and shallow copy\n",
    "color = [\"Yellow\", \"Black\", \"Brown\", \"Yellow\", \"Orange\", \"Red\", \"Pink\", \"Blue\", \"Purple\"]"
   ]
  },
  {
   "cell_type": "code",
   "execution_count": 94,
   "id": "eee7c6c6",
   "metadata": {},
   "outputs": [],
   "source": [
    "list2 = color.copy()                  #deep copy"
   ]
  },
  {
   "cell_type": "code",
   "execution_count": 95,
   "id": "05af1784",
   "metadata": {},
   "outputs": [],
   "source": [
    "list2.append(\"White\")"
   ]
  },
  {
   "cell_type": "code",
   "execution_count": 96,
   "id": "d10bad5d",
   "metadata": {},
   "outputs": [
    {
     "name": "stdout",
     "output_type": "stream",
     "text": [
      "['Yellow', 'Black', 'Brown', 'Yellow', 'Orange', 'Red', 'Pink', 'Blue', 'Purple']\n",
      "['Yellow', 'Black', 'Brown', 'Yellow', 'Orange', 'Red', 'Pink', 'Blue', 'Purple', 'White']\n",
      "2089780066560\n",
      "2089778032704\n"
     ]
    }
   ],
   "source": [
    "print(color)\n",
    "print(list2)\n",
    "#Different IDs\n",
    "print(id(color))\n",
    "print(id(list2))  "
   ]
  },
  {
   "cell_type": "code",
   "execution_count": 97,
   "id": "9c01729d",
   "metadata": {},
   "outputs": [],
   "source": [
    "list3 = color                        #shallow copy"
   ]
  },
  {
   "cell_type": "code",
   "execution_count": 98,
   "id": "918b0f15",
   "metadata": {},
   "outputs": [],
   "source": [
    "list3.append(\"White\")"
   ]
  },
  {
   "cell_type": "code",
   "execution_count": 99,
   "id": "dc66f2d8",
   "metadata": {},
   "outputs": [
    {
     "name": "stdout",
     "output_type": "stream",
     "text": [
      "['Yellow', 'Black', 'Brown', 'Yellow', 'Orange', 'Red', 'Pink', 'Blue', 'Purple', 'White']\n",
      "['Yellow', 'Black', 'Brown', 'Yellow', 'Orange', 'Red', 'Pink', 'Blue', 'Purple', 'White']\n",
      "2089780066560\n",
      "2089780066560\n"
     ]
    }
   ],
   "source": [
    "print(color)\n",
    "print(list3)\n",
    "#Same IDs\n",
    "print(id(color))\n",
    "print(id(list3))"
   ]
  },
  {
   "cell_type": "code",
   "execution_count": null,
   "id": "d0cb0448",
   "metadata": {},
   "outputs": [],
   "source": [
    "list1 = []"
   ]
  },
  {
   "cell_type": "code",
   "execution_count": null,
   "id": "06560095",
   "metadata": {},
   "outputs": [],
   "source": []
  }
 ],
 "metadata": {
  "kernelspec": {
   "display_name": "Python 3 (ipykernel)",
   "language": "python",
   "name": "python3"
  },
  "language_info": {
   "codemirror_mode": {
    "name": "ipython",
    "version": 3
   },
   "file_extension": ".py",
   "mimetype": "text/x-python",
   "name": "python",
   "nbconvert_exporter": "python",
   "pygments_lexer": "ipython3",
   "version": "3.11.4"
  }
 },
 "nbformat": 4,
 "nbformat_minor": 5
}
