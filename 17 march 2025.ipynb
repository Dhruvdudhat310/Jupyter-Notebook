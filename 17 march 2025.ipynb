{
 "cells": [
  {
   "cell_type": "code",
   "execution_count": 1,
   "id": "db1709ff",
   "metadata": {},
   "outputs": [],
   "source": [
    "#functions \n",
    "def myfuction():\n",
    "    print(\"Hello My 1st Function\")"
   ]
  },
  {
   "cell_type": "code",
   "execution_count": 3,
   "id": "83ec9883",
   "metadata": {},
   "outputs": [
    {
     "name": "stdout",
     "output_type": "stream",
     "text": [
      "Hello My 1st Function\n"
     ]
    }
   ],
   "source": [
    "myfuction()"
   ]
  },
  {
   "cell_type": "code",
   "execution_count": 4,
   "id": "395565af",
   "metadata": {},
   "outputs": [],
   "source": [
    "def add(a,b):            #parameterise function\n",
    "    print(a+b)"
   ]
  },
  {
   "cell_type": "code",
   "execution_count": 6,
   "id": "22818608",
   "metadata": {},
   "outputs": [
    {
     "name": "stdout",
     "output_type": "stream",
     "text": [
      "145\n"
     ]
    }
   ],
   "source": [
    "add(90,55)"
   ]
  },
  {
   "cell_type": "code",
   "execution_count": 58,
   "id": "cbd0c7e7",
   "metadata": {},
   "outputs": [],
   "source": [
    "def add(a,b=50):           #default value always assign at last perameter \n",
    "    print(a+b)             "
   ]
  },
  {
   "cell_type": "code",
   "execution_count": 8,
   "id": "42bd4335",
   "metadata": {},
   "outputs": [
    {
     "name": "stdout",
     "output_type": "stream",
     "text": [
      "100\n"
     ]
    }
   ],
   "source": [
    "add(50)"
   ]
  },
  {
   "cell_type": "code",
   "execution_count": 59,
   "id": "e7796adb",
   "metadata": {},
   "outputs": [
    {
     "name": "stdout",
     "output_type": "stream",
     "text": [
      "110\n"
     ]
    }
   ],
   "source": [
    "add(50,60)                 #update default perameter"
   ]
  },
  {
   "cell_type": "code",
   "execution_count": 10,
   "id": "17774860",
   "metadata": {},
   "outputs": [],
   "source": [
    "# *   = variable length args\n",
    "# **  = key value args\n",
    "def Mymethod(*a):           #we can pass multiple perameter = variable length args\n",
    "    print(a)"
   ]
  },
  {
   "cell_type": "code",
   "execution_count": 13,
   "id": "0dd1d804",
   "metadata": {},
   "outputs": [
    {
     "name": "stdout",
     "output_type": "stream",
     "text": [
      "(12, 56, 89, 90, 12, 56, 78)\n"
     ]
    }
   ],
   "source": [
    "myvar = Mymethod(12,56,89,90,12,56,78)"
   ]
  },
  {
   "cell_type": "code",
   "execution_count": 14,
   "id": "450a4022",
   "metadata": {},
   "outputs": [
    {
     "data": {
      "text/plain": [
       "NoneType"
      ]
     },
     "execution_count": 14,
     "metadata": {},
     "output_type": "execute_result"
    }
   ],
   "source": [
    "type(myvar)"
   ]
  },
  {
   "cell_type": "code",
   "execution_count": 15,
   "id": "5294ae1e",
   "metadata": {},
   "outputs": [],
   "source": [
    "def dictionary(**x):\n",
    "    print(x)"
   ]
  },
  {
   "cell_type": "code",
   "execution_count": 16,
   "id": "64bb113c",
   "metadata": {},
   "outputs": [
    {
     "name": "stdout",
     "output_type": "stream",
     "text": [
      "{'Name': 'Dhruv', 'age': 21, 'City': 'Vadodara'}\n"
     ]
    }
   ],
   "source": [
    "#dictionary dict syntax follow key value\n",
    "dictionary(Name=\"Dhruv\", age=21, City=\"Vadodara\")         "
   ]
  },
  {
   "cell_type": "code",
   "execution_count": 96,
   "id": "ead9f905",
   "metadata": {},
   "outputs": [
    {
     "name": "stdout",
     "output_type": "stream",
     "text": [
      "{'name': 'Dhruv', 'age': 21}\n"
     ]
    }
   ],
   "source": [
    "#to pass dictionary syntax into key value args\n",
    "data = {\"name\": \"Dhruv\", \"age\": 21}\n",
    "dictionary(**data)  # Unpacking dictionary"
   ]
  },
  {
   "cell_type": "code",
   "execution_count": 28,
   "id": "4295c184",
   "metadata": {},
   "outputs": [
    {
     "data": {
      "text/plain": [
       "15"
      ]
     },
     "execution_count": 28,
     "metadata": {},
     "output_type": "execute_result"
    }
   ],
   "source": [
    "#lambda function\n",
    "# lambda variable : expression\n",
    "num = lambda x : x+5\n",
    "num(10)"
   ]
  },
  {
   "cell_type": "code",
   "execution_count": 26,
   "id": "2a548be1",
   "metadata": {},
   "outputs": [],
   "source": [
    "num = lambda x,y : x+y"
   ]
  },
  {
   "cell_type": "code",
   "execution_count": 27,
   "id": "6bd29235",
   "metadata": {},
   "outputs": [
    {
     "data": {
      "text/plain": [
       "77"
      ]
     },
     "execution_count": 27,
     "metadata": {},
     "output_type": "execute_result"
    }
   ],
   "source": [
    "num(10,67)"
   ]
  },
  {
   "cell_type": "code",
   "execution_count": 32,
   "id": "4943306d",
   "metadata": {},
   "outputs": [],
   "source": [
    "list1 = [78,23,45,67,89,123]"
   ]
  },
  {
   "cell_type": "code",
   "execution_count": 42,
   "id": "53c86443",
   "metadata": {},
   "outputs": [],
   "source": [
    "#map function to perform expression to every element \n",
    "squ = list(map(lambda x:x**2,list1))          #type cast to list"
   ]
  },
  {
   "cell_type": "code",
   "execution_count": 43,
   "id": "fefb9449",
   "metadata": {},
   "outputs": [
    {
     "data": {
      "text/plain": [
       "[6084, 529, 2025, 4489, 7921, 15129]"
      ]
     },
     "execution_count": 43,
     "metadata": {},
     "output_type": "execute_result"
    }
   ],
   "source": [
    "squ"
   ]
  },
  {
   "cell_type": "code",
   "execution_count": 44,
   "id": "6533a47c",
   "metadata": {},
   "outputs": [],
   "source": [
    "#filter function    \n",
    "list2 = [78,23,45,67,89,123,90,72,14,16]"
   ]
  },
  {
   "cell_type": "code",
   "execution_count": 45,
   "id": "1c1c9b44",
   "metadata": {},
   "outputs": [],
   "source": [
    "sqr = list(filter(lambda x : x>30, list2))      #use to filter data"
   ]
  },
  {
   "cell_type": "code",
   "execution_count": 46,
   "id": "cf6aff50",
   "metadata": {},
   "outputs": [
    {
     "name": "stdout",
     "output_type": "stream",
     "text": [
      "[78, 45, 67, 89, 123, 90, 72]\n"
     ]
    }
   ],
   "source": [
    "print(sqr)"
   ]
  },
  {
   "cell_type": "code",
   "execution_count": 55,
   "id": "54a34fc9",
   "metadata": {},
   "outputs": [],
   "source": [
    "#reduce function use for aggrigation\n",
    "from functools import reduce\n",
    "fun = reduce(lambda x,y : x+y,list1)          #return single value output"
   ]
  },
  {
   "cell_type": "code",
   "execution_count": 56,
   "id": "7da71a83",
   "metadata": {},
   "outputs": [
    {
     "data": {
      "text/plain": [
       "425"
      ]
     },
     "execution_count": 56,
     "metadata": {},
     "output_type": "execute_result"
    }
   ],
   "source": [
    "fun"
   ]
  },
  {
   "cell_type": "code",
   "execution_count": 60,
   "id": "3c884890",
   "metadata": {},
   "outputs": [],
   "source": [
    "var1 = [(\"Dhruv\",2003),(\"Ayushi\",2004),(\"Riya\",2003),(\"Helee\",2005)]"
   ]
  },
  {
   "cell_type": "code",
   "execution_count": 61,
   "id": "5c5586b6",
   "metadata": {},
   "outputs": [
    {
     "data": {
      "text/plain": [
       "list"
      ]
     },
     "execution_count": 61,
     "metadata": {},
     "output_type": "execute_result"
    }
   ],
   "source": [
    "type(var1)"
   ]
  },
  {
   "cell_type": "code",
   "execution_count": 73,
   "id": "1d01eef4",
   "metadata": {},
   "outputs": [
    {
     "name": "stdout",
     "output_type": "stream",
     "text": [
      "Help on method_descriptor:\n",
      "\n",
      "sort(self, /, *, key=None, reverse=False)\n",
      "    Sort the list in ascending order and return None.\n",
      "    \n",
      "    The sort is in-place (i.e. the list itself is modified) and stable (i.e. the\n",
      "    order of two equal elements is maintained).\n",
      "    \n",
      "    If a key function is given, apply it once to each list item and sort them,\n",
      "    ascending or descending, according to their function values.\n",
      "    \n",
      "    The reverse flag can be set to sort in descending order.\n",
      "\n"
     ]
    }
   ],
   "source": [
    "help(list.sort)"
   ]
  },
  {
   "cell_type": "code",
   "execution_count": 76,
   "id": "022b853e",
   "metadata": {},
   "outputs": [],
   "source": [
    "#sort function \n",
    "var1.sort(key = lambda x:x[1])"
   ]
  },
  {
   "cell_type": "code",
   "execution_count": 77,
   "id": "b92b93f4",
   "metadata": {},
   "outputs": [
    {
     "data": {
      "text/plain": [
       "[('Dhruv', 2003), ('Riya', 2003), ('Ayushi', 2004), ('Helee', 2005)]"
      ]
     },
     "execution_count": 77,
     "metadata": {},
     "output_type": "execute_result"
    }
   ],
   "source": [
    "var1"
   ]
  },
  {
   "cell_type": "code",
   "execution_count": 78,
   "id": "34556548",
   "metadata": {},
   "outputs": [],
   "source": [
    "list1 = [\"Dhruv\", \"Apple\", \"Banana\", \"Pineapple\"]"
   ]
  },
  {
   "cell_type": "code",
   "execution_count": 83,
   "id": "b19c0621",
   "metadata": {},
   "outputs": [
    {
     "data": {
      "text/plain": [
       "'Pineapple'"
      ]
     },
     "execution_count": 83,
     "metadata": {},
     "output_type": "execute_result"
    }
   ],
   "source": [
    "max(list1 , key = len)         #we dont need to write perameter in len function"
   ]
  },
  {
   "cell_type": "code",
   "execution_count": 86,
   "id": "d06675cc",
   "metadata": {},
   "outputs": [
    {
     "name": "stdout",
     "output_type": "stream",
     "text": [
      "Apple\n",
      "Pineapple\n"
     ]
    }
   ],
   "source": [
    "print(min(list1))     #fallow ascii value \n",
    "print(max(list1))"
   ]
  },
  {
   "cell_type": "code",
   "execution_count": 94,
   "id": "5f4a14c0",
   "metadata": {},
   "outputs": [
    {
     "data": {
      "text/plain": [
       "'Pineapple'"
      ]
     },
     "execution_count": 94,
     "metadata": {},
     "output_type": "execute_result"
    }
   ],
   "source": [
    "max(list1 , key = lambda x : len(x))      #find max string into the list "
   ]
  },
  {
   "cell_type": "code",
   "execution_count": null,
   "id": "fd19a4c1",
   "metadata": {},
   "outputs": [],
   "source": []
  }
 ],
 "metadata": {
  "kernelspec": {
   "display_name": "Python 3 (ipykernel)",
   "language": "python",
   "name": "python3"
  },
  "language_info": {
   "codemirror_mode": {
    "name": "ipython",
    "version": 3
   },
   "file_extension": ".py",
   "mimetype": "text/x-python",
   "name": "python",
   "nbconvert_exporter": "python",
   "pygments_lexer": "ipython3",
   "version": "3.11.4"
  }
 },
 "nbformat": 4,
 "nbformat_minor": 5
}
