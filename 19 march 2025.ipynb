{
 "cells": [
  {
   "cell_type": "code",
   "execution_count": 1,
   "id": "040e9b04",
   "metadata": {},
   "outputs": [],
   "source": [
    "#oops concept \n",
    "# class and object \n",
    "# constructor and distructor \n",
    "# single and multiple inheritance "
   ]
  },
  {
   "cell_type": "code",
   "execution_count": 2,
   "id": "e5989c54",
   "metadata": {},
   "outputs": [],
   "source": [
    "#if don't write self(any variable) it gives an error\n",
    "#self refers to current object (we not need to pass felf)\n",
    "class Myclass:\n",
    "    def add(self,a,b):\n",
    "        print(a+b)"
   ]
  },
  {
   "cell_type": "code",
   "execution_count": 3,
   "id": "c0e5aa9b",
   "metadata": {},
   "outputs": [],
   "source": [
    "m1 = Myclass()         "
   ]
  },
  {
   "cell_type": "code",
   "execution_count": 4,
   "id": "495010bc",
   "metadata": {},
   "outputs": [
    {
     "name": "stdout",
     "output_type": "stream",
     "text": [
      "34\n"
     ]
    }
   ],
   "source": [
    "m1.add(11,23)"
   ]
  },
  {
   "cell_type": "code",
   "execution_count": 5,
   "id": "a80a2d38",
   "metadata": {},
   "outputs": [],
   "source": [
    "class Student:                              #creating class\n",
    "    \n",
    "    def getdetails(self,name,roll):\n",
    "        self.name = name\n",
    "        self.roll = roll\n",
    "        \n",
    "    def display(self):\n",
    "        print(f\"Name : {self.name} \\nRoll : {self.roll}\")"
   ]
  },
  {
   "cell_type": "code",
   "execution_count": 6,
   "id": "a2b432d8",
   "metadata": {},
   "outputs": [],
   "source": [
    "s1 = Student()                             #creating an object"
   ]
  },
  {
   "cell_type": "code",
   "execution_count": 7,
   "id": "ff95d93d",
   "metadata": {},
   "outputs": [
    {
     "name": "stdout",
     "output_type": "stream",
     "text": [
      "Name : Dhruv \n",
      "Roll : 111\n"
     ]
    }
   ],
   "source": [
    "s1.getdetails(\"Dhruv\",111)                 #calling methods of class\n",
    "s1.display()"
   ]
  },
  {
   "cell_type": "code",
   "execution_count": 17,
   "id": "40ab61fa",
   "metadata": {},
   "outputs": [],
   "source": [
    "class Mysample:\n",
    "    def __init__(self,a,b):                                  #constructor in python  \n",
    "        print(a+b)\n",
    "        \n",
    "    def __del__(self):                                   #distructor in python\n",
    "        pass                                             #pass for come out from method\n",
    "    \n",
    "    def mymethod(self):\n",
    "        print(\"Hello\")"
   ]
  },
  {
   "cell_type": "code",
   "execution_count": 18,
   "id": "dfffbfb3",
   "metadata": {},
   "outputs": [
    {
     "name": "stdout",
     "output_type": "stream",
     "text": [
      "90\n"
     ]
    }
   ],
   "source": [
    "sone = Mysample(12,78)                                      #it runs automatecally when object created "
   ]
  },
  {
   "cell_type": "code",
   "execution_count": 14,
   "id": "a0cd2c88",
   "metadata": {},
   "outputs": [],
   "source": [
    "del sone                                              "
   ]
  },
  {
   "cell_type": "code",
   "execution_count": 15,
   "id": "89b5f176",
   "metadata": {},
   "outputs": [
    {
     "ename": "NameError",
     "evalue": "name 'sone' is not defined",
     "output_type": "error",
     "traceback": [
      "\u001b[1;31m---------------------------------------------------------------------------\u001b[0m",
      "\u001b[1;31mNameError\u001b[0m                                 Traceback (most recent call last)",
      "Cell \u001b[1;32mIn[15], line 1\u001b[0m\n\u001b[1;32m----> 1\u001b[0m sone\u001b[38;5;241m.\u001b[39mmymethod()\n",
      "\u001b[1;31mNameError\u001b[0m: name 'sone' is not defined"
     ]
    }
   ],
   "source": [
    "sone.mymethod()                                         #object is distroed so it gives an error "
   ]
  },
  {
   "cell_type": "code",
   "execution_count": 23,
   "id": "266104bf",
   "metadata": {},
   "outputs": [],
   "source": [
    "class Student:                              #creating class\n",
    "    branch = \"Rise\"\n",
    "    def getdetails(self,name,roll):\n",
    "        self.name = name\n",
    "        self.roll = roll\n",
    "        \n",
    "    def display(self):\n",
    "        print(f\"Branch : {self.branch}\\nName : {self.name} \\nRoll : {self.roll}\")"
   ]
  },
  {
   "cell_type": "code",
   "execution_count": 24,
   "id": "b36140d1",
   "metadata": {},
   "outputs": [],
   "source": [
    "s1 = Student()                             #obj 1       branch = Rise"
   ]
  },
  {
   "cell_type": "code",
   "execution_count": 26,
   "id": "570cde34",
   "metadata": {},
   "outputs": [
    {
     "name": "stdout",
     "output_type": "stream",
     "text": [
      "Branch : Rise\n",
      "Name : Dhruv \n",
      "Roll : 904\n"
     ]
    }
   ],
   "source": [
    "s1.getdetails(\"Dhruv\",904)\n",
    "s1.display()"
   ]
  },
  {
   "cell_type": "code",
   "execution_count": 27,
   "id": "f8cbf305",
   "metadata": {},
   "outputs": [],
   "source": [
    "s2 = Student()                             #obj 2      branch = Rise"
   ]
  },
  {
   "cell_type": "code",
   "execution_count": 28,
   "id": "6822a677",
   "metadata": {},
   "outputs": [
    {
     "name": "stdout",
     "output_type": "stream",
     "text": [
      "Branch : Rise\n",
      "Name : Ayushi \n",
      "Roll : 895\n"
     ]
    }
   ],
   "source": [
    "s1.getdetails(\"Ayushi\",895)\n",
    "s1.display()"
   ]
  },
  {
   "cell_type": "code",
   "execution_count": 58,
   "id": "ae3ba874",
   "metadata": {},
   "outputs": [],
   "source": [
    "class A:\n",
    "    def __init__(self):\n",
    "        print(\"Constructor of class A\")\n",
    "    def feature(self):\n",
    "        print(\"Feture of class A\")\n",
    "    def featureOne(self):\n",
    "        print(\"Hello another feature of class A\")"
   ]
  },
  {
   "cell_type": "code",
   "execution_count": 59,
   "id": "7dd8b71c",
   "metadata": {},
   "outputs": [],
   "source": [
    "#single inheritance\n",
    "class B(#A):\n",
    "    def __init__(self):\n",
    "        super().__init__()                    #to call super class constrctor \n",
    "        print(\"Constructor of class B\")\n",
    "    def featureB(self):\n",
    "        print(\"Feature from class B\")"
   ]
  },
  {
   "cell_type": "code",
   "execution_count": 62,
   "id": "75c00302",
   "metadata": {},
   "outputs": [],
   "source": [
    "#multiple inheritance\n",
    "class C(A,B):\n",
    "    def __init__(self):\n",
    "        super().__init__()                    #to call super class constrctor \n",
    "        print(\"Constructor of class C\")\n",
    "    def featureC():\n",
    "        print(\"Feture of class C\")"
   ]
  },
  {
   "cell_type": "code",
   "execution_count": 61,
   "id": "6d9c3923",
   "metadata": {},
   "outputs": [
    {
     "name": "stdout",
     "output_type": "stream",
     "text": [
      "Constructor of class A\n"
     ]
    }
   ],
   "source": [
    "C1 = C()              #follow MRO oder so first A constructor will be called                  "
   ]
  },
  {
   "cell_type": "code",
   "execution_count": 63,
   "id": "242cfebd",
   "metadata": {},
   "outputs": [
    {
     "name": "stdout",
     "output_type": "stream",
     "text": [
      "Constructor of class A\n",
      "Constructor of class C\n"
     ]
    }
   ],
   "source": [
    "C1 = C()"
   ]
  },
  {
   "cell_type": "code",
   "execution_count": 47,
   "id": "3677f4e7",
   "metadata": {},
   "outputs": [
    {
     "name": "stdout",
     "output_type": "stream",
     "text": [
      "Constructor of class A\n",
      "Constructor of class B\n"
     ]
    }
   ],
   "source": [
    "B1 = B()                                      #child class object"
   ]
  },
  {
   "cell_type": "code",
   "execution_count": 48,
   "id": "2d7c855a",
   "metadata": {},
   "outputs": [
    {
     "name": "stdout",
     "output_type": "stream",
     "text": [
      "Feture of class A\n"
     ]
    }
   ],
   "source": [
    "B1.feature()"
   ]
  },
  {
   "cell_type": "code",
   "execution_count": 49,
   "id": "cea91ea3",
   "metadata": {},
   "outputs": [
    {
     "name": "stdout",
     "output_type": "stream",
     "text": [
      "Feature from class B\n"
     ]
    }
   ],
   "source": [
    "B1.featureB()"
   ]
  },
  {
   "cell_type": "code",
   "execution_count": 50,
   "id": "8ce477b9",
   "metadata": {},
   "outputs": [
    {
     "name": "stdout",
     "output_type": "stream",
     "text": [
      "Hello another feature of class A\n"
     ]
    }
   ],
   "source": [
    "B1.featureOne()"
   ]
  },
  {
   "cell_type": "code",
   "execution_count": null,
   "id": "5e2a077a",
   "metadata": {},
   "outputs": [],
   "source": []
  }
 ],
 "metadata": {
  "kernelspec": {
   "display_name": "Python 3 (ipykernel)",
   "language": "python",
   "name": "python3"
  },
  "language_info": {
   "codemirror_mode": {
    "name": "ipython",
    "version": 3
   },
   "file_extension": ".py",
   "mimetype": "text/x-python",
   "name": "python",
   "nbconvert_exporter": "python",
   "pygments_lexer": "ipython3",
   "version": "3.11.4"
  }
 },
 "nbformat": 4,
 "nbformat_minor": 5
}
