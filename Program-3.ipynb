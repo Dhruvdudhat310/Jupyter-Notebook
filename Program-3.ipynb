{
 "cells": [
  {
   "cell_type": "code",
   "execution_count": 1,
   "id": "65e71059",
   "metadata": {},
   "outputs": [],
   "source": [
    "#Question 1 : calculate a string of 3 character (first,middle,last)"
   ]
  },
  {
   "cell_type": "code",
   "execution_count": 2,
   "id": "1d056c59",
   "metadata": {},
   "outputs": [
    {
     "name": "stdout",
     "output_type": "stream",
     "text": [
      "Enter your name : DHRUV\n",
      "DRV\n"
     ]
    }
   ],
   "source": [
    "str1 = input(\"Enter your name : \")\n",
    "\n",
    "if str1:\n",
    "    name1 = f\"{str1[0]}{str1[int(len(str1)/2)]}{str1[-1]}\"\n",
    "\n",
    "print(name1)"
   ]
  },
  {
   "cell_type": "code",
   "execution_count": 3,
   "id": "8e962238",
   "metadata": {},
   "outputs": [],
   "source": [
    "#Question 2 : create a string with 3 middle character"
   ]
  },
  {
   "cell_type": "code",
   "execution_count": 4,
   "id": "47523da7",
   "metadata": {},
   "outputs": [
    {
     "name": "stdout",
     "output_type": "stream",
     "text": [
      "Enter your name : DJ=HRUV\n",
      "=HR\n"
     ]
    }
   ],
   "source": [
    "str2 = input(\"Enter your name : \")\n",
    "\n",
    "if str2:\n",
    "    name2 = f\"{str2[int(len(str2)/2)-1]}{str2[int(len(str2)/2)]}{str2[int(len(str2)/2)+1]}\"\n",
    "\n",
    "print(name2)"
   ]
  },
  {
   "cell_type": "code",
   "execution_count": 5,
   "id": "835cce9a",
   "metadata": {},
   "outputs": [],
   "source": [
    "#Question 3 : Append a new string in middle of a string"
   ]
  },
  {
   "cell_type": "code",
   "execution_count": 6,
   "id": "6c4ce800",
   "metadata": {},
   "outputs": [
    {
     "name": "stdout",
     "output_type": "stream",
     "text": [
      "Enter your name : DHRUV\n",
      "DHWWWWWRUV\n"
     ]
    }
   ],
   "source": [
    "str3 = input(\"Enter your name : \")\n",
    "    \n",
    "if str3:\n",
    "    middle = int(len(str3)/2)\n",
    "    name3 = str3[0:middle] + \"WWWWW\" + str3[middle:]\n",
    "\n",
    "print(name3)"
   ]
  },
  {
   "cell_type": "code",
   "execution_count": 7,
   "id": "f8c9ebbd",
   "metadata": {},
   "outputs": [],
   "source": [
    "#Question 4 : Arrange a character in such away that lower letters should come first"
   ]
  },
  {
   "cell_type": "code",
   "execution_count": 8,
   "id": "7e9052ba",
   "metadata": {},
   "outputs": [
    {
     "name": "stdout",
     "output_type": "stream",
     "text": [
      "Enter your name : DhtRw\n",
      "['h', 't', 'w', 'D', 'R']\n"
     ]
    }
   ],
   "source": [
    "from functools import reduce\n",
    "\n",
    "str4 = input(\"Enter your name : \")\n",
    "\n",
    "l1 = [i for i in str4 if i.islower() == True]\n",
    "l2 = [i for i in str4 if i.isupper() == True]\n",
    "\n",
    "l3 = sorted(l1) + sorted(l2)             # l3 = l1 + l2  #if don't want sorted \n",
    "\n",
    "print(l3)"
   ]
  },
  {
   "cell_type": "code",
   "execution_count": 9,
   "id": "83670440",
   "metadata": {},
   "outputs": [],
   "source": [
    "dum = reduce(lambda a,b : a+b, l3)                  #convert list to string"
   ]
  },
  {
   "cell_type": "code",
   "execution_count": 10,
   "id": "628e90e5",
   "metadata": {},
   "outputs": [
    {
     "name": "stdout",
     "output_type": "stream",
     "text": [
      "htwDR\n"
     ]
    }
   ],
   "source": [
    "print(dum)\n"
   ]
  },
  {
   "cell_type": "code",
   "execution_count": 11,
   "id": "f15ba047",
   "metadata": {},
   "outputs": [],
   "source": [
    "#Question 5 : Count all letters, digits and spacial symbols from string "
   ]
  },
  {
   "cell_type": "code",
   "execution_count": 12,
   "id": "ab039dc8",
   "metadata": {},
   "outputs": [
    {
     "name": "stdout",
     "output_type": "stream",
     "text": [
      "Enter your any numbers, digits, symbols : FD$#425efFE$\n",
      "{'lettrs': 6, 'digits': 3, 'symbols': 3}\n"
     ]
    }
   ],
   "source": [
    "str5 = input(\"Enter your any numbers, digits, symbols : \")\n",
    "\n",
    "letters,digits,symbols = 0,0,0\n",
    "\n",
    "for i in str5:\n",
    "    if i.isalpha() == True:\n",
    "        letters += 1\n",
    "    elif i.isdigit() == True:\n",
    "        digits += 1\n",
    "    else:\n",
    "        symbols += 1\n",
    "        \n",
    "dict5 = {\"lettrs\" : letters, \"digits\" : digits, \"symbols\" : symbols}\n",
    "\n",
    "print(dict5)"
   ]
  },
  {
   "cell_type": "code",
   "execution_count": 13,
   "id": "83b0e261",
   "metadata": {},
   "outputs": [],
   "source": [
    "#Question 6 : Write a program to check if two strings are balanced or not "
   ]
  },
  {
   "cell_type": "code",
   "execution_count": 14,
   "id": "444c8786",
   "metadata": {},
   "outputs": [
    {
     "name": "stdout",
     "output_type": "stream",
     "text": [
      "Enter base string : my name is Dhruv\n",
      "Enter sub string : Dhruv is my name\n",
      "\n",
      ".....String is balanced.....\n"
     ]
    }
   ],
   "source": [
    "str61 = input(\"Enter base string : \")\n",
    "str62 = input(\"Enter sub string : \")\n",
    "\n",
    "set61 = set(str61)                          #find unique alphabet\n",
    "set62 = set(str62)\n",
    "\n",
    "count61 = [str61.count(i) for i in set61]   #find count of alphabets \n",
    "count62 = [str62.count(i) for i in set62]\n",
    "\n",
    "list61 = list(str61)                        #convert list to excess idexes \n",
    "list62 = list(str62)\n",
    "\n",
    "dic61 = { i : j for i,j in zip(list61,count61)}    #creating dictionary to set {alphabet : count}\n",
    "dic62 = { i : j for i,j in zip(list62,count62)}    #example {a : 5, b : 3}\n",
    "    \n",
    "for key in dic61:                             #comparing values of two dictionaries \n",
    "    if key in dic62:\n",
    "        if dic61[key] == dic62[key]:\n",
    "            count = 0\n",
    "        else:\n",
    "            count += 1\n",
    "            \n",
    "if count > 0:\n",
    "    print(f\"\\n.....String is not balanced.....\")\n",
    "else:\n",
    "    print(f\"\\n.....String is balanced.....\")"
   ]
  },
  {
   "cell_type": "code",
   "execution_count": 15,
   "id": "b631af90",
   "metadata": {},
   "outputs": [],
   "source": [
    "#Question 7 : calculate the sum and avg of a digit in a string (string may contain letters and symbols ingnore them)"
   ]
  },
  {
   "cell_type": "code",
   "execution_count": 16,
   "id": "a6db11a8",
   "metadata": {},
   "outputs": [
    {
     "name": "stdout",
     "output_type": "stream",
     "text": [
      "Enter string : DSA44EF22##$4\n",
      "Sum = 16\n",
      "Avg = 3.2\n"
     ]
    }
   ],
   "source": [
    "import math as m\n",
    "str7 = input(\"Enter string : \")\n",
    "\n",
    "digit = [int(i) for i in str7 if i.isdigit()]\n",
    "\n",
    "total = sum(digit)\n",
    "avg = sum(digit)/len(digit) if digit else 0\n",
    "\n",
    "print(f\"Sum = {total}\\nAvg = {avg}\")"
   ]
  },
  {
   "cell_type": "code",
   "execution_count": 17,
   "id": "6e016361",
   "metadata": {},
   "outputs": [],
   "source": [
    "#Question 8 : reverse a string "
   ]
  },
  {
   "cell_type": "code",
   "execution_count": 18,
   "id": "66f1241a",
   "metadata": {},
   "outputs": [
    {
     "name": "stdout",
     "output_type": "stream",
     "text": [
      "Enter string : ABCD\n",
      "Before Revese : ABCD\n",
      "After Revese : DCBA\n"
     ]
    }
   ],
   "source": [
    "str81 = input(\"Enter string : \")\n",
    "\n",
    "str82 = str81[::-1]                      #revese slicing \n",
    "\n",
    "print(f\"Before Revese : {str81}\\nAfter Revese : {str82}\")"
   ]
  },
  {
   "cell_type": "code",
   "execution_count": 19,
   "id": "6dc75100",
   "metadata": {},
   "outputs": [],
   "source": [
    "#Question 9 : Find last position of a sub string "
   ]
  },
  {
   "cell_type": "code",
   "execution_count": 20,
   "id": "c6c7f5d3",
   "metadata": {},
   "outputs": [
    {
     "name": "stdout",
     "output_type": "stream",
     "text": [
      "Enter base string : hello python, python is the most popular language \n",
      "Enter sub string : python\n",
      "\n",
      "last position of python is at 14 index\n"
     ]
    }
   ],
   "source": [
    "str9_1 = input(\"Enter base string : \")\n",
    "str9_2 = input(\"Enter sub string : \")\n",
    "\n",
    "if str9_2 in str9_1:\n",
    "    last_position = str9_1.rfind(str9_2)\n",
    "    print(f\"\\nlast position of {str9_2} is at {last_position} index\")\n",
    "else:\n",
    "    print(\"\\nsub string is not found\")"
   ]
  },
  {
   "cell_type": "code",
   "execution_count": 21,
   "id": "d7791feb",
   "metadata": {},
   "outputs": [],
   "source": [
    "#Question 10 : Remove empty and None string from list of a string "
   ]
  },
  {
   "cell_type": "code",
   "execution_count": 25,
   "id": "011612fa",
   "metadata": {},
   "outputs": [
    {
     "name": "stdout",
     "output_type": "stream",
     "text": [
      "['Dhruv', 'Dudhat']\n"
     ]
    }
   ],
   "source": [
    "# Method 1 #filter and lambda function \n",
    "list10 = [\"Dhruv\", \"\", None, \"Dudhat\"]\n",
    "\n",
    "list101 = list(filter(lambda c: c is not None and not str(c).isspace() and c != \"\", list10))\n",
    "\n",
    "print(list101)"
   ]
  },
  {
   "cell_type": "code",
   "execution_count": 20,
   "id": "9a4b79c0",
   "metadata": {},
   "outputs": [
    {
     "name": "stdout",
     "output_type": "stream",
     "text": [
      "['Dhruv', 'Dudhat']\n"
     ]
    }
   ],
   "source": [
    "# Method 2 # if condition \n",
    "for i in list10:\n",
    "    if None in list10:\n",
    "        list10.remove(None)\n",
    "    if i == \"\" or str(i).isspace():\n",
    "        list10.remove(i)\n",
    "\n",
    "print(list10)"
   ]
  },
  {
   "cell_type": "code",
   "execution_count": 28,
   "id": "0a373dbf",
   "metadata": {},
   "outputs": [
    {
     "name": "stdout",
     "output_type": "stream",
     "text": [
      "['Dhruv', 'Dudhat']\n"
     ]
    }
   ],
   "source": [
    "# Method 3 # List comprehention \n",
    "list101 = [i for i in list10 if i is not None and not str(i).isspace() and i != \"\"]\n",
    "\n",
    "print(list101)"
   ]
  },
  {
   "cell_type": "code",
   "execution_count": 29,
   "id": "f803305f",
   "metadata": {},
   "outputs": [],
   "source": [
    "#Question 11 : Remove special symbols, space and punctuation from a string "
   ]
  },
  {
   "cell_type": "code",
   "execution_count": 39,
   "id": "57d1d22e",
   "metadata": {},
   "outputs": [],
   "source": [
    "from functools import reduce"
   ]
  },
  {
   "cell_type": "code",
   "execution_count": 69,
   "id": "4c5cb7b6",
   "metadata": {},
   "outputs": [
    {
     "name": "stdout",
     "output_type": "stream",
     "text": [
      "dudhatdhruv786gmailcom\n",
      "dudhatdhruv786gmailcom\n"
     ]
    }
   ],
   "source": [
    "str = \"dudhat dhruv786 @gmail.com\"\n",
    "\n",
    "# Method 1\n",
    "clean_text = \"\".join(char for char in str if char.isalnum())        # Directly make string from \n",
    "\n",
    "print(clean_text)\n",
    "\n",
    "# Method 2\n",
    "clean_text1 = [char for char in str if char.isalnum()]\n",
    "dm1 = reduce(lambda a,b : a+b, clean_text1)                         # List to String \n",
    "\n",
    "print(dm1)  "
   ]
  },
  {
   "cell_type": "code",
   "execution_count": 49,
   "id": "1aee7a56",
   "metadata": {},
   "outputs": [],
   "source": [
    "#Question 12 : Revese a list in python"
   ]
  },
  {
   "cell_type": "code",
   "execution_count": 53,
   "id": "3fefbc92",
   "metadata": {},
   "outputs": [
    {
     "name": "stdout",
     "output_type": "stream",
     "text": [
      "['Dhruv', 'Dudhat']\n"
     ]
    }
   ],
   "source": [
    "list121 = [\"Dudhat\",\"Dhruv\"]\n",
    "\n",
    "list122 = list121[::-1]\n",
    "\n",
    "print(list122)"
   ]
  },
  {
   "cell_type": "code",
   "execution_count": 54,
   "id": "a18ddaf2",
   "metadata": {},
   "outputs": [],
   "source": [
    "#Question 13 : concate two string index wise"
   ]
  },
  {
   "cell_type": "code",
   "execution_count": 71,
   "id": "8dd7ba47",
   "metadata": {},
   "outputs": [
    {
     "name": "stdout",
     "output_type": "stream",
     "text": [
      "Enter string 1 : abc\n",
      "Enter string 2 : abc\n",
      "aabbcc\n"
     ]
    }
   ],
   "source": [
    "str131 = input(\"Enter string 1 : \")\n",
    "str132 = input(\"Enter string 2 : \")\n",
    "\n",
    "if len(str131)==len(str132):\n",
    "    str133 = [i+j for i,j in zip(str131,str132)]\n",
    "    red = reduce(lambda a,b : a+b, str133)\n",
    "    print(red)\n",
    "else:\n",
    "    print(\".....Enter same size of string.....\")"
   ]
  },
  {
   "cell_type": "code",
   "execution_count": 72,
   "id": "68f62778",
   "metadata": {},
   "outputs": [],
   "source": [
    "#Question 14 : find square of every item in list "
   ]
  },
  {
   "cell_type": "code",
   "execution_count": 73,
   "id": "4f9cd857",
   "metadata": {},
   "outputs": [
    {
     "name": "stdout",
     "output_type": "stream",
     "text": [
      "[1, 4, 9, 16, 25]\n"
     ]
    }
   ],
   "source": [
    "list141 = [1,2,3,4,5]\n",
    "          \n",
    "list142 = [i*i for i in list141]\n",
    "\n",
    "print(list142)"
   ]
  },
  {
   "cell_type": "code",
   "execution_count": 74,
   "id": "ee87a1f6",
   "metadata": {},
   "outputs": [],
   "source": [
    "#Question 15 : concate two list (cross join) "
   ]
  },
  {
   "cell_type": "code",
   "execution_count": 12,
   "id": "dc501157",
   "metadata": {},
   "outputs": [
    {
     "name": "stdout",
     "output_type": "stream",
     "text": [
      "[['Dhruv', 'Dudhat'], ['Dhruv', 'Panchal'], ['Dhruv', 'Desai'], ['Ayushi', 'Dudhat'], ['Ayushi', 'Panchal'], ['Ayushi', 'Desai'], ['Uchit', 'Dudhat'], ['Uchit', 'Panchal'], ['Uchit', 'Desai']]\n",
      "['Dhruv Dudhat', 'Dhruv Panchal', 'Dhruv Desai', 'Ayushi Dudhat', 'Ayushi Panchal', 'Ayushi Desai', 'Uchit Dudhat', 'Uchit Panchal', 'Uchit Desai']\n"
     ]
    }
   ],
   "source": [
    "list15_1 = [\"Dhruv\",\"Ayushi\",\"Uchit\"]\n",
    "list15_2 = [\"Dudhat\",\"Panchal\",\"Desai\"]\n",
    "list15_3,list15_4 = [],[]\n",
    "\n",
    "for i in list15_1:\n",
    "    for j in list15_2:\n",
    "        list15_3.append([i,j])                       # Method 1\n",
    "        list15_4.append(i+\" \"+j)                     # Method 2\n",
    "\n",
    "print(list15_3)\n",
    "print(list15_4)"
   ]
  },
  {
   "cell_type": "code",
   "execution_count": 1,
   "id": "f3da966e",
   "metadata": {},
   "outputs": [],
   "source": [
    "#Question 16 : iterate both lists simultaneously "
   ]
  },
  {
   "cell_type": "code",
   "execution_count": 11,
   "id": "554858b4",
   "metadata": {},
   "outputs": [
    {
     "name": "stdout",
     "output_type": "stream",
     "text": [
      "['Dhruv Dudhat', 'Ayushi Panchal', 'Uchit Desai']\n",
      "Dhruv Dudhat\n",
      "Ayushi Panchal\n",
      "Uchit Desai\n"
     ]
    }
   ],
   "source": [
    "list16_1 = [\"Dhruv\",\"Ayushi\",\"Uchit\"]\n",
    "list16_2 = [\"Dudhat\",\"Panchal\",\"Desai\"]\n",
    "\n",
    "list16_3 = [i+\" \"+j for i,j in zip(list16_1,list16_2)]\n",
    "\n",
    "print(list16_3)\n",
    "\n",
    "for i,j in zip(list16_1,list16_2):\n",
    "    print(i,j)"
   ]
  },
  {
   "cell_type": "code",
   "execution_count": 1,
   "id": "ce122ffb",
   "metadata": {},
   "outputs": [],
   "source": [
    "#Question 17 : Extend nested list in sublist"
   ]
  },
  {
   "cell_type": "code",
   "execution_count": 1,
   "id": "675c9b3f",
   "metadata": {},
   "outputs": [
    {
     "data": {
      "text/plain": [
       "['A', 'B', 'C', 'G', 'H', 'I']"
      ]
     },
     "execution_count": 1,
     "metadata": {},
     "output_type": "execute_result"
    }
   ],
   "source": [
    "list17_1 = [\"A\",\"B\",\"C\",\"G\",\"H\",\"I\"]\n",
    "list17_2 = [\"D\",\"E\",\"F\"]\n",
    "list17_1"
   ]
  },
  {
   "cell_type": "code",
   "execution_count": 2,
   "id": "e2ef1636",
   "metadata": {},
   "outputs": [],
   "source": [
    "#Question 18 : Remove all occurance of a specific item from a list"
   ]
  },
  {
   "cell_type": "code",
   "execution_count": 17,
   "id": "43c68d5b",
   "metadata": {},
   "outputs": [
    {
     "name": "stdout",
     "output_type": "stream",
     "text": [
      "Enter element that you want to remove from list : Ayushi\n",
      "['Dhruv', 2003, 2004]\n"
     ]
    }
   ],
   "source": [
    "list18_1 = [\"Dhruv\",2003,\"Ayushi\",2004,\"Ayushi\"]\n",
    "\n",
    "var = input(\"Enter element that you want to remove from list : \")\n",
    "\n",
    "list18_1 = [i for i in list181 if str(i) != var]\n",
    "\n",
    "print(list18_1)"
   ]
  },
  {
   "cell_type": "code",
   "execution_count": 18,
   "id": "739032a4",
   "metadata": {},
   "outputs": [],
   "source": [
    "#Question 19 : Convert two list into 1 dictionary"
   ]
  },
  {
   "cell_type": "code",
   "execution_count": 10,
   "id": "ef3cc9ec",
   "metadata": {},
   "outputs": [
    {
     "name": "stdout",
     "output_type": "stream",
     "text": [
      "{'key 1': 1, 'key 2': 2, 'key 3': 3, 'key 4': 4, 'key 5': 5}\n"
     ]
    }
   ],
   "source": [
    "list19_1 = [\"key 1\",\"key 2\",\"key 3\",\"key 4\",\"key 5\"]\n",
    "list19_2 = [1,2,3,4,5]\n",
    "\n",
    "dic19 = {i : j for i,j in zip(list19_1,list19_2)}\n",
    "\n",
    "print(dic19)"
   ]
  },
  {
   "cell_type": "code",
   "execution_count": 21,
   "id": "895d74b1",
   "metadata": {},
   "outputs": [],
   "source": [
    "#Question 20 : Merage two dictionary into one "
   ]
  },
  {
   "cell_type": "code",
   "execution_count": 9,
   "id": "ba6b1d5d",
   "metadata": {},
   "outputs": [
    {
     "name": "stdout",
     "output_type": "stream",
     "text": [
      "{'key 1': 'A', 'key 2': 'B', 'key 3': 'C', 'key 4': 'D', 'key 5': 'E', 'key 6': 'F'}\n",
      "{'key 1': 'A', 'key 2': 'B', 'key 3': 'C', 'key 4': 'D', 'key 5': 'E', 'key 6': 'F'}\n"
     ]
    }
   ],
   "source": [
    "dic20_1 = {\"key 1\" : \"A\",\"key 2\" : \"B\",\"key 3\" : \"C\"}\n",
    "dic20_2 = {\"key 4\" : \"D\",\"key 5\" : \"E\",\"key 6\" : \"F\"}\n",
    "\n",
    "dic20_1.update(dic20_2)                           # Method 1\n",
    "dic20_3 = dic20_1 | dic20_2                       # Method 2\n",
    "\n",
    "print(dic20_1)\n",
    "print(dic20_3)"
   ]
  },
  {
   "cell_type": "code",
   "execution_count": 7,
   "id": "d4191616",
   "metadata": {},
   "outputs": [],
   "source": [
    "#Question 21 : initialize dictionary with default value"
   ]
  },
  {
   "cell_type": "code",
   "execution_count": 8,
   "id": "201ab4a7",
   "metadata": {},
   "outputs": [
    {
     "name": "stdout",
     "output_type": "stream",
     "text": [
      "{'key 1': 'A', 'key 2': 'B', 'key 3': 'C'}\n"
     ]
    }
   ],
   "source": [
    "dic21_1 = {\"key 1\" : \"A\",\"key 2\" : \"B\"}\n",
    "\n",
    "dic21_1.setdefault(\"key 3\",\"C\")\n",
    "\n",
    "print(dic21_1)"
   ]
  },
  {
   "cell_type": "code",
   "execution_count": 13,
   "id": "9790786d",
   "metadata": {},
   "outputs": [],
   "source": [
    "#Question 22 : Create dicstionary by extracting keys from given dicstionary"
   ]
  },
  {
   "cell_type": "code",
   "execution_count": 2,
   "id": "fcb4edb1",
   "metadata": {},
   "outputs": [
    {
     "name": "stdout",
     "output_type": "stream",
     "text": [
      "Enter keys from given dicstionary : key1 key4\n",
      "{'key1': 'A', 'key4': 'D'}\n"
     ]
    }
   ],
   "source": [
    "uu = list(input(\"Enter keys from given dicstionary : \").split())\n",
    "\n",
    "dic22_1 = {\"key1\" : \"A\",\"key2\" : \"B\",\"key3\" : \"C\",\"key4\" : \"D\"}\n",
    "\n",
    "dic22_2 = {i : dic22_1[i] for i in dic22_1 if i in uu}\n",
    "\n",
    "print(dic22_2)"
   ]
  },
  {
   "cell_type": "code",
   "execution_count": 3,
   "id": "4182a371",
   "metadata": {},
   "outputs": [],
   "source": [
    "#Question 23 : check if value exists in dicstionary"
   ]
  },
  {
   "cell_type": "code",
   "execution_count": 8,
   "id": "de1379b6",
   "metadata": {},
   "outputs": [
    {
     "name": "stdout",
     "output_type": "stream",
     "text": [
      "Enter value that you want to check : F\n",
      "Value is not presented in dicstionary\n"
     ]
    }
   ],
   "source": [
    "dic23_1 = {\"key1\" : \"A\",\"key2\" : \"B\",\"key3\" : \"C\",\"key4\" : \"D\"}\n",
    "\n",
    "value = input(\"Enter value that you want to check : \")\n",
    "\n",
    "for i in dic23_1.keys():\n",
    "    if value in dic23_1[i]:\n",
    "        print(\"Value is present in dicstionary\")\n",
    "        break\n",
    "    else:\n",
    "        print(\"Value is not presented in dicstionary\")\n",
    "        break"
   ]
  },
  {
   "cell_type": "code",
   "execution_count": 10,
   "id": "9686feb0",
   "metadata": {},
   "outputs": [],
   "source": [
    "#Question 24 : Rename the key of dicstionary"
   ]
  },
  {
   "cell_type": "code",
   "execution_count": 15,
   "id": "6b0e6403",
   "metadata": {},
   "outputs": [
    {
     "name": "stdout",
     "output_type": "stream",
     "text": [
      "{'key1': 'A', 'key3': 'C', 'key4': 'D', 'key5': 'B'}\n"
     ]
    }
   ],
   "source": [
    "dic24_1 = {\"key1\" : \"A\",\"key2\" : \"B\",\"key3\" : \"C\",\"key4\" : \"D\"}\n",
    "\n",
    "dic24_1[\"key5\"] = dic24_1[\"key2\"]\n",
    "del dic24_1[\"key2\"]\n",
    "\n",
    "print(dic24_1)"
   ]
  },
  {
   "cell_type": "code",
   "execution_count": 16,
   "id": "4008c0b0",
   "metadata": {},
   "outputs": [],
   "source": [
    "#Question 25 : Get the key of minimum value of dicstionary"
   ]
  },
  {
   "cell_type": "code",
   "execution_count": 19,
   "id": "14a4dcfa",
   "metadata": {},
   "outputs": [
    {
     "name": "stdout",
     "output_type": "stream",
     "text": [
      "key2\n"
     ]
    }
   ],
   "source": [
    "import math as m\n",
    "dic25_1 = {\"key1\" : 55,\"key2\" : 20,\"key3\" :65,\"key4\" : 88}\n",
    "\n",
    "min_key = min(dic25_1, key = dic25_1.get)\n",
    "\n",
    "print(min_key)"
   ]
  },
  {
   "cell_type": "code",
   "execution_count": 2,
   "id": "6af8e066",
   "metadata": {},
   "outputs": [],
   "source": [
    "#Question 26 : Add list of elements into set"
   ]
  },
  {
   "cell_type": "code",
   "execution_count": 3,
   "id": "d5e39b84",
   "metadata": {},
   "outputs": [
    {
     "name": "stdout",
     "output_type": "stream",
     "text": [
      "{'Chikoo', 'Mango', 'Banana', 'Watermelon', 'Apple'}\n"
     ]
    }
   ],
   "source": [
    "set26_1 = {\"Apple\",\"Banana\",\"Watermelon\"}\n",
    "list26_1 = {\"Apple\",\"Chikoo\",\"Mango\"}\n",
    "set26_2 = set(list26_1)\n",
    "print(set26_1.union(set26_2))"
   ]
  },
  {
   "cell_type": "code",
   "execution_count": 4,
   "id": "8663e5ed",
   "metadata": {},
   "outputs": [],
   "source": [
    "#Question 27 : Return a new set of identical item from a 2 sets"
   ]
  },
  {
   "cell_type": "code",
   "execution_count": 5,
   "id": "28ca2185",
   "metadata": {},
   "outputs": [
    {
     "name": "stdout",
     "output_type": "stream",
     "text": [
      "{'Apple', 'Watermelon', 'Mango'}\n"
     ]
    }
   ],
   "source": [
    "set27_1 = {\"Apple\",\"Banana\",\"Mango\",\"Guava\",\"Watermelon\"}\n",
    "set27_2 = {\"Apple\",\"Mango\",\"Watermelon\"}\n",
    "set27_3 = set()\n",
    "for i in set27_1:\n",
    "    for j in set27_2:\n",
    "        if i==j:\n",
    "            set27_3.add(i)\n",
    "print(set27_3)"
   ]
  },
  {
   "cell_type": "code",
   "execution_count": 11,
   "id": "a27ca662",
   "metadata": {},
   "outputs": [],
   "source": [
    "#Question 28 : Get only unique items from a two set"
   ]
  },
  {
   "cell_type": "code",
   "execution_count": 6,
   "id": "8dcb3396",
   "metadata": {},
   "outputs": [
    {
     "name": "stdout",
     "output_type": "stream",
     "text": [
      "{'Chikoo', 'Guava', 'Banana'}\n",
      "{'Chikoo', 'Guava', 'Banana'}\n"
     ]
    }
   ],
   "source": [
    "set28_1 = {\"Apple\",\"Banana\",\"Mango\",\"Guava\",\"Watermelon\"}\n",
    "set28_2 = {\"Apple\",\"Mango\",\"Watermelon\",\"Chikoo\"}\n",
    "set28_3 = set28_1 ^ set28_2\n",
    "set28_4 = set28_1.symmetric_difference(set28_2)\n",
    "print(set28_3)\n",
    "print(set28_4)"
   ]
  },
  {
   "cell_type": "code",
   "execution_count": 7,
   "id": "bcd27b3a",
   "metadata": {},
   "outputs": [],
   "source": [
    "#Question 29 : Update the 1 set with the item that does not exist into 2 set"
   ]
  },
  {
   "cell_type": "code",
   "execution_count": 8,
   "id": "ef9d5e3e",
   "metadata": {},
   "outputs": [
    {
     "name": "stdout",
     "output_type": "stream",
     "text": [
      "{2, 4, 6}\n"
     ]
    }
   ],
   "source": [
    "set29_1 = {1,2,3,4,5,6}\n",
    "set29_2 = {1,3,5,7,9}\n",
    "set29_1.difference_update(set29_2)\n",
    "print(set29_1)"
   ]
  },
  {
   "cell_type": "code",
   "execution_count": 12,
   "id": "1b3592d0",
   "metadata": {},
   "outputs": [],
   "source": [
    "#Question 30 : Remove items from a set at once"
   ]
  },
  {
   "cell_type": "code",
   "execution_count": 9,
   "id": "98381d51",
   "metadata": {},
   "outputs": [
    {
     "name": "stdout",
     "output_type": "stream",
     "text": [
      "{1, 3, 5, 7}\n"
     ]
    }
   ],
   "source": [
    "set30_1 = {1,2,3,4,5,6,7,8}\n",
    "set30_2 = {2,4,6,8}\n",
    "set30_1.difference_update(set30_2)\n",
    "print(set30_1)"
   ]
  },
  {
   "cell_type": "code",
   "execution_count": 13,
   "id": "76c498f5",
   "metadata": {},
   "outputs": [],
   "source": [
    "#Question "
   ]
  },
  {
   "cell_type": "code",
   "execution_count": 23,
   "id": "ed4ca8dc",
   "metadata": {},
   "outputs": [
    {
     "name": "stdout",
     "output_type": "stream",
     "text": [
      "12\n",
      "12\n"
     ]
    }
   ],
   "source": [
    "from functools import reduce\n",
    "list11_1 = [2,3,4,5,6]\n",
    "sum1 = 0\n",
    "\n",
    "list11_2 = sum([i for i in list11_1 if i % 2 == 0])                                         # Method 1\n",
    "\n",
    "abc = reduce(lambda a, b: a + b, list(filter(lambda x: x % 2 == 0, list11_1)))              # Method 2\n",
    "\n",
    "print(list11_2)\n",
    "print(abc)"
   ]
  },
  {
   "cell_type": "code",
   "execution_count": null,
   "id": "6f632a03",
   "metadata": {},
   "outputs": [],
   "source": []
  }
 ],
 "metadata": {
  "kernelspec": {
   "display_name": "Python 3 (ipykernel)",
   "language": "python",
   "name": "python3"
  },
  "language_info": {
   "codemirror_mode": {
    "name": "ipython",
    "version": 3
   },
   "file_extension": ".py",
   "mimetype": "text/x-python",
   "name": "python",
   "nbconvert_exporter": "python",
   "pygments_lexer": "ipython3",
   "version": "3.11.4"
  }
 },
 "nbformat": 4,
 "nbformat_minor": 5
}
