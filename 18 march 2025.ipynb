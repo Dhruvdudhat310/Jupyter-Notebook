{
 "cells": [
  {
   "cell_type": "code",
   "execution_count": null,
   "id": "18c4cfe8",
   "metadata": {},
   "outputs": [],
   "source": [
    "#file handling \n",
    "#there are 4 modes\n",
    "#r=reading (default), w=writing, x=create , a=append"
   ]
  },
  {
   "cell_type": "code",
   "execution_count": 2,
   "id": "25b3d889",
   "metadata": {},
   "outputs": [],
   "source": [
    "# \\ unicode escap character\n",
    "myfile = open(\"C:\\\\Users\\\\dudha\\\\OneDrive\\\\Desktop\\\\pythonprac.txt\")"
   ]
  },
  {
   "cell_type": "code",
   "execution_count": 3,
   "id": "48c312ed",
   "metadata": {},
   "outputs": [
    {
     "data": {
      "text/plain": [
       "<_io.TextIOWrapper name='C:\\\\Users\\\\dudha\\\\OneDrive\\\\Desktop\\\\pythonprac.txt' mode='r' encoding='cp1252'>"
      ]
     },
     "execution_count": 3,
     "metadata": {},
     "output_type": "execute_result"
    }
   ],
   "source": [
    "myfile"
   ]
  },
  {
   "cell_type": "code",
   "execution_count": 4,
   "id": "31af78d9",
   "metadata": {},
   "outputs": [
    {
     "data": {
      "text/plain": [
       "'Hello\\nHow are you?\\nDhruv\\nAyushi\\nRiya\\nKenil\\nDhruvil'"
      ]
     },
     "execution_count": 4,
     "metadata": {},
     "output_type": "execute_result"
    }
   ],
   "source": [
    "myfile.read()      #only read"
   ]
  },
  {
   "cell_type": "code",
   "execution_count": 5,
   "id": "3795dd4e",
   "metadata": {},
   "outputs": [
    {
     "data": {
      "text/plain": [
       "''"
      ]
     },
     "execution_count": 5,
     "metadata": {},
     "output_type": "execute_result"
    }
   ],
   "source": [
    "myfile.readline() #start at last "
   ]
  },
  {
   "cell_type": "code",
   "execution_count": 6,
   "id": "88e85850",
   "metadata": {},
   "outputs": [
    {
     "data": {
      "text/plain": [
       "0"
      ]
     },
     "execution_count": 6,
     "metadata": {},
     "output_type": "execute_result"
    }
   ],
   "source": [
    "myfile.seek(0)           #to set position of cursor"
   ]
  },
  {
   "cell_type": "code",
   "execution_count": 8,
   "id": "1eea57cd",
   "metadata": {},
   "outputs": [
    {
     "data": {
      "text/plain": [
       "'Hello\\n'"
      ]
     },
     "execution_count": 8,
     "metadata": {},
     "output_type": "execute_result"
    }
   ],
   "source": [
    "myfile.readline()            #read whole line "
   ]
  },
  {
   "cell_type": "code",
   "execution_count": 9,
   "id": "a66dc5bb",
   "metadata": {},
   "outputs": [
    {
     "data": {
      "text/plain": [
       "'How are you?\\n'"
      ]
     },
     "execution_count": 9,
     "metadata": {},
     "output_type": "execute_result"
    }
   ],
   "source": [
    "myfile.readline()"
   ]
  },
  {
   "cell_type": "code",
   "execution_count": 11,
   "id": "5285d1a2",
   "metadata": {},
   "outputs": [
    {
     "data": {
      "text/plain": [
       "10"
      ]
     },
     "execution_count": 11,
     "metadata": {},
     "output_type": "execute_result"
    }
   ],
   "source": [
    "myfile.seek(10)"
   ]
  },
  {
   "cell_type": "code",
   "execution_count": 12,
   "id": "f8f37f04",
   "metadata": {},
   "outputs": [
    {
     "data": {
      "text/plain": [
       "' are you?\\nDhruv\\nAyushi\\nRiya\\nKenil\\nDhruvil'"
      ]
     },
     "execution_count": 12,
     "metadata": {},
     "output_type": "execute_result"
    }
   ],
   "source": [
    "myfile.read()"
   ]
  },
  {
   "cell_type": "code",
   "execution_count": 13,
   "id": "3a7e5e10",
   "metadata": {},
   "outputs": [
    {
     "data": {
      "text/plain": [
       "0"
      ]
     },
     "execution_count": 13,
     "metadata": {},
     "output_type": "execute_result"
    }
   ],
   "source": [
    "myfile.seek(0)"
   ]
  },
  {
   "cell_type": "code",
   "execution_count": 14,
   "id": "32525ed9",
   "metadata": {},
   "outputs": [
    {
     "data": {
      "text/plain": [
       "['Hello\\n',\n",
       " 'How are you?\\n',\n",
       " 'Dhruv\\n',\n",
       " 'Ayushi\\n',\n",
       " 'Riya\\n',\n",
       " 'Kenil\\n',\n",
       " 'Dhruvil']"
      ]
     },
     "execution_count": 14,
     "metadata": {},
     "output_type": "execute_result"
    }
   ],
   "source": [
    "myfile.readlines()"
   ]
  },
  {
   "cell_type": "code",
   "execution_count": 17,
   "id": "70f09695",
   "metadata": {},
   "outputs": [
    {
     "data": {
      "text/plain": [
       "0"
      ]
     },
     "execution_count": 17,
     "metadata": {},
     "output_type": "execute_result"
    }
   ],
   "source": [
    "myfile.seek(0)"
   ]
  },
  {
   "cell_type": "code",
   "execution_count": 18,
   "id": "f49291ac",
   "metadata": {},
   "outputs": [
    {
     "data": {
      "text/plain": [
       "['Hello\\n']"
      ]
     },
     "execution_count": 18,
     "metadata": {},
     "output_type": "execute_result"
    }
   ],
   "source": [
    "# 5 = size it is optional \n",
    "#Reads only 5 characters from first line\n",
    "myfile.readlines(5)"
   ]
  },
  {
   "cell_type": "code",
   "execution_count": 19,
   "id": "f5c16dfc",
   "metadata": {},
   "outputs": [
    {
     "data": {
      "text/plain": [
       "['How are you?\\n']"
      ]
     },
     "execution_count": 19,
     "metadata": {},
     "output_type": "execute_result"
    }
   ],
   "source": [
    "myfile.readlines(10)"
   ]
  },
  {
   "cell_type": "code",
   "execution_count": 20,
   "id": "28b46f59",
   "metadata": {},
   "outputs": [
    {
     "data": {
      "text/plain": [
       "['Dhruv\\n']"
      ]
     },
     "execution_count": 20,
     "metadata": {},
     "output_type": "execute_result"
    }
   ],
   "source": [
    "myfile.readlines(4)"
   ]
  },
  {
   "cell_type": "code",
   "execution_count": 22,
   "id": "06932af0",
   "metadata": {},
   "outputs": [
    {
     "ename": "FileNotFoundError",
     "evalue": "[Errno 2] No such file or directory: 'C:\\\\Users\\\\dudha\\\\OneDrive\\\\Desktop\\\\py.txt'",
     "output_type": "error",
     "traceback": [
      "\u001b[1;31m---------------------------------------------------------------------------\u001b[0m",
      "\u001b[1;31mFileNotFoundError\u001b[0m                         Traceback (most recent call last)",
      "Cell \u001b[1;32mIn[22], line 1\u001b[0m\n\u001b[1;32m----> 1\u001b[0m myfile \u001b[38;5;241m=\u001b[39m \u001b[38;5;28mopen\u001b[39m(\u001b[38;5;124m\"\u001b[39m\u001b[38;5;124mC:\u001b[39m\u001b[38;5;130;01m\\\\\u001b[39;00m\u001b[38;5;124mUsers\u001b[39m\u001b[38;5;130;01m\\\\\u001b[39;00m\u001b[38;5;124mdudha\u001b[39m\u001b[38;5;130;01m\\\\\u001b[39;00m\u001b[38;5;124mOneDrive\u001b[39m\u001b[38;5;130;01m\\\\\u001b[39;00m\u001b[38;5;124mDesktop\u001b[39m\u001b[38;5;130;01m\\\\\u001b[39;00m\u001b[38;5;124mpy.txt\u001b[39m\u001b[38;5;124m\"\u001b[39m,\u001b[38;5;124m\"\u001b[39m\u001b[38;5;124mr\u001b[39m\u001b[38;5;124m\"\u001b[39m)\n",
      "File \u001b[1;32m~\\anaconda3\\Lib\\site-packages\\IPython\\core\\interactiveshell.py:284\u001b[0m, in \u001b[0;36m_modified_open\u001b[1;34m(file, *args, **kwargs)\u001b[0m\n\u001b[0;32m    277\u001b[0m \u001b[38;5;28;01mif\u001b[39;00m file \u001b[38;5;129;01min\u001b[39;00m {\u001b[38;5;241m0\u001b[39m, \u001b[38;5;241m1\u001b[39m, \u001b[38;5;241m2\u001b[39m}:\n\u001b[0;32m    278\u001b[0m     \u001b[38;5;28;01mraise\u001b[39;00m \u001b[38;5;167;01mValueError\u001b[39;00m(\n\u001b[0;32m    279\u001b[0m         \u001b[38;5;124mf\u001b[39m\u001b[38;5;124m\"\u001b[39m\u001b[38;5;124mIPython won\u001b[39m\u001b[38;5;124m'\u001b[39m\u001b[38;5;124mt let you open fd=\u001b[39m\u001b[38;5;132;01m{\u001b[39;00mfile\u001b[38;5;132;01m}\u001b[39;00m\u001b[38;5;124m by default \u001b[39m\u001b[38;5;124m\"\u001b[39m\n\u001b[0;32m    280\u001b[0m         \u001b[38;5;124m\"\u001b[39m\u001b[38;5;124mas it is likely to crash IPython. If you know what you are doing, \u001b[39m\u001b[38;5;124m\"\u001b[39m\n\u001b[0;32m    281\u001b[0m         \u001b[38;5;124m\"\u001b[39m\u001b[38;5;124myou can use builtins\u001b[39m\u001b[38;5;124m'\u001b[39m\u001b[38;5;124m open.\u001b[39m\u001b[38;5;124m\"\u001b[39m\n\u001b[0;32m    282\u001b[0m     )\n\u001b[1;32m--> 284\u001b[0m \u001b[38;5;28;01mreturn\u001b[39;00m io_open(file, \u001b[38;5;241m*\u001b[39margs, \u001b[38;5;241m*\u001b[39m\u001b[38;5;241m*\u001b[39mkwargs)\n",
      "\u001b[1;31mFileNotFoundError\u001b[0m: [Errno 2] No such file or directory: 'C:\\\\Users\\\\dudha\\\\OneDrive\\\\Desktop\\\\py.txt'"
     ]
    }
   ],
   "source": [
    "#read = we have to create file otherwise it gives an error\n",
    "myfile = open(\"C:\\\\Users\\\\dudha\\\\OneDrive\\\\Desktop\\\\py.txt\",\"r\") "
   ]
  },
  {
   "cell_type": "code",
   "execution_count": 36,
   "id": "9272eb03",
   "metadata": {},
   "outputs": [],
   "source": [
    "#if file is not exist than it automatically created\n",
    "#write mode override old text\n",
    "myfile = open(\"C:\\\\Users\\\\dudha\\\\OneDrive\\\\Desktop\\\\py.txt\",\"w\")"
   ]
  },
  {
   "cell_type": "code",
   "execution_count": 37,
   "id": "23eeb0d0",
   "metadata": {},
   "outputs": [
    {
     "data": {
      "text/plain": [
       "25"
      ]
     },
     "execution_count": 37,
     "metadata": {},
     "output_type": "execute_result"
    }
   ],
   "source": [
    "myfile.write(\"Hello\\nJava\\npython\\nDataSci\")"
   ]
  },
  {
   "cell_type": "code",
   "execution_count": 38,
   "id": "8a5b31ec",
   "metadata": {},
   "outputs": [],
   "source": [
    "myfile.close()       #if we close the file than only it reflact in file "
   ]
  },
  {
   "cell_type": "code",
   "execution_count": 39,
   "id": "e4a60aef",
   "metadata": {},
   "outputs": [],
   "source": [
    "#if file is not exist than it automatically created\n",
    "#append mode append new data after old text\n",
    "myfile = open(\"C:\\\\Users\\\\dudha\\\\OneDrive\\\\Desktop\\\\py.txt\",\"a\")"
   ]
  },
  {
   "cell_type": "code",
   "execution_count": 41,
   "id": "3887f845",
   "metadata": {},
   "outputs": [
    {
     "data": {
      "text/plain": [
       "18"
      ]
     },
     "execution_count": 41,
     "metadata": {},
     "output_type": "execute_result"
    }
   ],
   "source": [
    "myfile.write(\"\\nMy Name Is Dhruv.\")"
   ]
  },
  {
   "cell_type": "code",
   "execution_count": 42,
   "id": "b94694a5",
   "metadata": {},
   "outputs": [],
   "source": [
    "myfile.close()"
   ]
  },
  {
   "cell_type": "code",
   "execution_count": 12,
   "id": "1e6a93ee",
   "metadata": {},
   "outputs": [],
   "source": [
    "import string"
   ]
  },
  {
   "cell_type": "code",
   "execution_count": 6,
   "id": "28347b9b",
   "metadata": {},
   "outputs": [],
   "source": [
    "myfile = open(\"C:\\\\Users\\\\dudha\\\\OneDrive\\\\Desktop\\\\py.txt\",\"w\")"
   ]
  },
  {
   "cell_type": "code",
   "execution_count": 7,
   "id": "e1116e7c",
   "metadata": {},
   "outputs": [],
   "source": [
    "letters = string.ascii_uppercase"
   ]
  },
  {
   "cell_type": "code",
   "execution_count": 8,
   "id": "fde28c0d",
   "metadata": {},
   "outputs": [],
   "source": [
    "for i in letters:\n",
    "    myfile.write(i+\"\\n\")"
   ]
  },
  {
   "cell_type": "code",
   "execution_count": 9,
   "id": "9d84772c",
   "metadata": {},
   "outputs": [],
   "source": [
    "myfile.close()"
   ]
  },
  {
   "cell_type": "code",
   "execution_count": 27,
   "id": "5b48b39b",
   "metadata": {},
   "outputs": [],
   "source": [
    "myfile = open(\"C:\\\\Users\\\\dudha\\\\OneDrive\\\\Desktop\\\\py.txt\",\"a\")"
   ]
  },
  {
   "cell_type": "code",
   "execution_count": 28,
   "id": "79724dd1",
   "metadata": {},
   "outputs": [],
   "source": [
    "for i in zip(string.ascii_uppercase[0::2], string.ascii_lowercase[1::2]):\n",
    "    myfile.write(str(i)+\"\\n\")"
   ]
  },
  {
   "cell_type": "code",
   "execution_count": 30,
   "id": "5e9abcbb",
   "metadata": {},
   "outputs": [],
   "source": [
    "myfile.close()"
   ]
  },
  {
   "cell_type": "code",
   "execution_count": 29,
   "id": "6dda4f55",
   "metadata": {
    "scrolled": true
   },
   "outputs": [],
   "source": [
    "for up,low in zip(string.ascii_uppercase[0::2], string.ascii_lowercase[1::2]):\n",
    "    myfile.write(f\"{up},{low}\\n\")"
   ]
  },
  {
   "cell_type": "code",
   "execution_count": 34,
   "id": "95fefa3c",
   "metadata": {},
   "outputs": [
    {
     "name": "stdout",
     "output_type": "stream",
     "text": [
      "('A', 'b')\n",
      "('C', 'd')\n",
      "('E', 'f')\n",
      "('G', 'h')\n",
      "('I', 'j')\n",
      "('K', 'l')\n",
      "('M', 'n')\n",
      "('O', 'p')\n",
      "('Q', 'r')\n",
      "('S', 't')\n",
      "('U', 'v')\n",
      "('W', 'x')\n",
      "('Y', 'z')\n",
      "A,b\n",
      "C,d\n",
      "E,f\n",
      "G,h\n",
      "I,j\n",
      "K,l\n",
      "M,n\n",
      "O,p\n",
      "Q,r\n",
      "S,t\n",
      "U,v\n",
      "W,x\n",
      "Y,z\n"
     ]
    }
   ],
   "source": [
    "for i in zip(string.ascii_uppercase[0::2], string.ascii_lowercase[1::2]):\n",
    "    print(i)\n",
    "    \n",
    "for up,low in zip(string.ascii_uppercase[0::2], string.ascii_lowercase[1::2]):\n",
    "    print(f\"{up},{low}\")"
   ]
  },
  {
   "cell_type": "code",
   "execution_count": null,
   "id": "eb020393",
   "metadata": {},
   "outputs": [],
   "source": []
  }
 ],
 "metadata": {
  "kernelspec": {
   "display_name": "Python 3 (ipykernel)",
   "language": "python",
   "name": "python3"
  },
  "language_info": {
   "codemirror_mode": {
    "name": "ipython",
    "version": 3
   },
   "file_extension": ".py",
   "mimetype": "text/x-python",
   "name": "python",
   "nbconvert_exporter": "python",
   "pygments_lexer": "ipython3",
   "version": "3.11.4"
  }
 },
 "nbformat": 4,
 "nbformat_minor": 5
}
