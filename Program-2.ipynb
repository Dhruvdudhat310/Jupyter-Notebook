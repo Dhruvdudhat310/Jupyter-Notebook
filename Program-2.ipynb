{
 "cells": [
  {
   "cell_type": "code",
   "execution_count": 1,
   "id": "33f0f905",
   "metadata": {},
   "outputs": [],
   "source": [
    "#Question : 1 create folder and inside create A to Z txt files"
   ]
  },
  {
   "cell_type": "code",
   "execution_count": 2,
   "id": "3d113da5",
   "metadata": {},
   "outputs": [],
   "source": [
    "#for creating folder\n",
    "import os\n",
    "\n",
    "path = \"C:\\\\Users\\\\dudha\\\\OneDrive\\\\Desktop\\\\new_folder\"  # Change this to your desired location\n",
    "os.mkdir(path)"
   ]
  },
  {
   "cell_type": "code",
   "execution_count": 3,
   "id": "93c51db4",
   "metadata": {},
   "outputs": [
    {
     "data": {
      "text/plain": [
       "'\\n#alternate method\\nimport string\\nfor letters in string.ascii_uppercase:\\n    myfile = open(f\"C:\\\\Users\\\\dudha\\\\OneDrive\\\\Desktop\\\\new_folder\\\\{letters}.txt\",\"x\")\\n'"
      ]
     },
     "execution_count": 3,
     "metadata": {},
     "output_type": "execute_result"
    }
   ],
   "source": [
    "#creating A.txt to Z.txt in the folder \n",
    "for i in range(ord(\"A\"),ord(\"Z\")+1):\n",
    "    myfile = open(f\"C:\\\\Users\\\\dudha\\\\OneDrive\\\\Desktop\\\\new_folder\\\\{chr(i)}.txt\",\"x\")\n",
    "\"\"\"\n",
    "#alternate method\n",
    "import string\n",
    "for letters in string.ascii_uppercase:\n",
    "    myfile = open(f\"C:\\\\Users\\\\dudha\\\\OneDrive\\\\Desktop\\\\new_folder\\\\{letters}.txt\",\"x\")\n",
    "\"\"\""
   ]
  },
  {
   "cell_type": "code",
   "execution_count": 4,
   "id": "ffabec21",
   "metadata": {},
   "outputs": [],
   "source": [
    "myfile.close()"
   ]
  },
  {
   "cell_type": "code",
   "execution_count": 5,
   "id": "bf6bce82",
   "metadata": {},
   "outputs": [],
   "source": [
    "#Question : 2 print like below pattern "
   ]
  },
  {
   "cell_type": "code",
   "execution_count": 6,
   "id": "82118732",
   "metadata": {},
   "outputs": [
    {
     "name": "stdout",
     "output_type": "stream",
     "text": [
      "A B C\n",
      "D E F\n",
      "G H I\n",
      "J K L\n",
      "M N O\n",
      "P Q R\n",
      "S T U\n",
      "V W X\n",
      "Y Z\n"
     ]
    }
   ],
   "source": [
    "import string\n",
    "for a,b,c in zip(string.ascii_uppercase[0::3],string.ascii_uppercase[1::3],string.ascii_uppercase[2::3]):\n",
    "             print(a,b,c)\n",
    "print(\"Y Z\")    "
   ]
  },
  {
   "cell_type": "code",
   "execution_count": 7,
   "id": "843ff2e3",
   "metadata": {},
   "outputs": [],
   "source": [
    "#Question : 3 Mearge two list into 3rd list via indexes"
   ]
  },
  {
   "cell_type": "code",
   "execution_count": 8,
   "id": "9f7ec12b",
   "metadata": {},
   "outputs": [
    {
     "name": "stdout",
     "output_type": "stream",
     "text": [
      "['Dhruv Dudhat', 'Ayushi Panchal', 'Uchit Desai']\n"
     ]
    }
   ],
   "source": [
    "list1 = [\"Dhruv\",\"Ayushi\",\"Uchit\"]\n",
    "list2 = [\"Dudhat\",\"Panchal\",\"Desai\"]\n",
    "list3 = []\n",
    "\n",
    "for a,b in zip(list1,list2):\n",
    "    list3.append(f\"{a} {b}\")\n",
    "\n",
    "print(list3)"
   ]
  },
  {
   "cell_type": "code",
   "execution_count": 9,
   "id": "64ca34fc",
   "metadata": {},
   "outputs": [],
   "source": [
    "#Question : 4 Find factorial without logic"
   ]
  },
  {
   "cell_type": "code",
   "execution_count": 10,
   "id": "68d9d67f",
   "metadata": {},
   "outputs": [
    {
     "name": "stdout",
     "output_type": "stream",
     "text": [
      "Enter number : 5\n",
      "Factorial of 5 is 120\n"
     ]
    }
   ],
   "source": [
    "import math as m\n",
    "num = int(input(\"Enter number : \"))\n",
    "result = m.factorial(num)  \n",
    "print(f\"Factorial of {num} is {result}\")"
   ]
  },
  {
   "cell_type": "code",
   "execution_count": null,
   "id": "cd62c5e9",
   "metadata": {},
   "outputs": [],
   "source": []
  }
 ],
 "metadata": {
  "kernelspec": {
   "display_name": "Python 3 (ipykernel)",
   "language": "python",
   "name": "python3"
  },
  "language_info": {
   "codemirror_mode": {
    "name": "ipython",
    "version": 3
   },
   "file_extension": ".py",
   "mimetype": "text/x-python",
   "name": "python",
   "nbconvert_exporter": "python",
   "pygments_lexer": "ipython3",
   "version": "3.11.4"
  }
 },
 "nbformat": 4,
 "nbformat_minor": 5
}
