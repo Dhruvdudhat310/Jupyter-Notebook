{
 "cells": [
  {
   "cell_type": "code",
   "execution_count": null,
   "id": "42cb3e64",
   "metadata": {},
   "outputs": [],
   "source": [
    "# Tuple () Brackets are optional"
   ]
  },
  {
   "cell_type": "code",
   "execution_count": 1,
   "id": "98203eee",
   "metadata": {},
   "outputs": [
    {
     "name": "stdout",
     "output_type": "stream",
     "text": [
      "('Mango', 'Apple', 'Water Malon', 'Graps')\n",
      "<class 'tuple'>\n"
     ]
    }
   ],
   "source": [
    "fruits = \"Mango\",\"Apple\",\"Water Malon\",\"Graps\"           #brakets are optional \n",
    "print(fruits)\n",
    "print(type(fruits))"
   ]
  },
  {
   "cell_type": "code",
   "execution_count": 73,
   "id": "58ca5286",
   "metadata": {},
   "outputs": [
    {
     "name": "stdout",
     "output_type": "stream",
     "text": [
      "Hello\n",
      "<class 'str'>\n",
      "<class 'tuple'>\n"
     ]
    }
   ],
   "source": [
    "a = (\"Hello\")                     #print type = string\n",
    "b = (\"Hello\",)                    #print type = tuple\n",
    "print(a)\n",
    "print(type(a))         \n",
    "print(type(b))"
   ]
  },
  {
   "cell_type": "code",
   "execution_count": 6,
   "id": "7ca45d72",
   "metadata": {},
   "outputs": [
    {
     "data": {
      "text/plain": [
       "1"
      ]
     },
     "execution_count": 6,
     "metadata": {},
     "output_type": "execute_result"
    }
   ],
   "source": [
    "#only two methods are in tuple\n",
    "fruits.count(\"Apple\")"
   ]
  },
  {
   "cell_type": "code",
   "execution_count": 8,
   "id": "842e3cfc",
   "metadata": {},
   "outputs": [
    {
     "data": {
      "text/plain": [
       "3"
      ]
     },
     "execution_count": 8,
     "metadata": {},
     "output_type": "execute_result"
    }
   ],
   "source": [
    "fruits.index(\"Graps\")"
   ]
  },
  {
   "cell_type": "code",
   "execution_count": 12,
   "id": "781cfdde",
   "metadata": {},
   "outputs": [],
   "source": [
    "student = {\"Name\":\"Dhruv\",                     #creating dictionary\n",
    "           \"Age\":21,                           #key should be unique\n",
    "           \"City\":\"Vadodara\",\n",
    "           \"Course\":\"Data Science\",\n",
    "           \"SName\":\"Darshit\"\n",
    "          }"
   ]
  },
  {
   "cell_type": "code",
   "execution_count": 13,
   "id": "026b9d98",
   "metadata": {},
   "outputs": [
    {
     "name": "stdout",
     "output_type": "stream",
     "text": [
      "{'Name': 'Dhruv', 'Age': 21, 'City': 'Vadodara', 'Course': 'Data Science', 'SName': 'Darshit'}\n"
     ]
    }
   ],
   "source": [
    "print(student)"
   ]
  },
  {
   "cell_type": "code",
   "execution_count": 14,
   "id": "045ff876",
   "metadata": {},
   "outputs": [
    {
     "data": {
      "text/plain": [
       "'Dhruv'"
      ]
     },
     "execution_count": 14,
     "metadata": {},
     "output_type": "execute_result"
    }
   ],
   "source": [
    "student[\"Name\"]          #accessing members of dictionary"
   ]
  },
  {
   "cell_type": "code",
   "execution_count": 15,
   "id": "6acdc1f1",
   "metadata": {},
   "outputs": [
    {
     "data": {
      "text/plain": [
       "21"
      ]
     },
     "execution_count": 15,
     "metadata": {},
     "output_type": "execute_result"
    }
   ],
   "source": [
    "student[\"Age\"]"
   ]
  },
  {
   "cell_type": "code",
   "execution_count": 16,
   "id": "dcf03b20",
   "metadata": {},
   "outputs": [],
   "source": [
    "student[\"City\"] = \"Ahmedabad\"        #changable (same as update)"
   ]
  },
  {
   "cell_type": "code",
   "execution_count": 17,
   "id": "6222dfcc",
   "metadata": {},
   "outputs": [
    {
     "name": "stdout",
     "output_type": "stream",
     "text": [
      "{'Name': 'Dhruv', 'Age': 21, 'City': 'Ahmedabad', 'Course': 'Data Science', 'SName': 'Darshit'}\n"
     ]
    }
   ],
   "source": [
    "print(student)"
   ]
  },
  {
   "cell_type": "code",
   "execution_count": 18,
   "id": "c26dfed5",
   "metadata": {},
   "outputs": [
    {
     "data": {
      "text/plain": [
       "'Dhruv'"
      ]
     },
     "execution_count": 18,
     "metadata": {},
     "output_type": "execute_result"
    }
   ],
   "source": [
    "student.get(\"Name\")             #accessing dictionary"
   ]
  },
  {
   "cell_type": "code",
   "execution_count": 19,
   "id": "626fc211",
   "metadata": {},
   "outputs": [
    {
     "data": {
      "text/plain": [
       "dict_keys(['Name', 'Age', 'City', 'Course', 'SName'])"
      ]
     },
     "execution_count": 19,
     "metadata": {},
     "output_type": "execute_result"
    }
   ],
   "source": [
    "student.keys()                   #list all keys"
   ]
  },
  {
   "cell_type": "code",
   "execution_count": 20,
   "id": "d6a70067",
   "metadata": {},
   "outputs": [
    {
     "data": {
      "text/plain": [
       "dict_values(['Dhruv', 21, 'Ahmedabad', 'Data Science', 'Darshit'])"
      ]
     },
     "execution_count": 20,
     "metadata": {},
     "output_type": "execute_result"
    }
   ],
   "source": [
    "student.values()                 #list all values "
   ]
  },
  {
   "cell_type": "code",
   "execution_count": 21,
   "id": "ff3f8a98",
   "metadata": {},
   "outputs": [
    {
     "data": {
      "text/plain": [
       "dict_items([('Name', 'Dhruv'), ('Age', 21), ('City', 'Ahmedabad'), ('Course', 'Data Science'), ('SName', 'Darshit')])"
      ]
     },
     "execution_count": 21,
     "metadata": {},
     "output_type": "execute_result"
    }
   ],
   "source": [
    "student.items()                  #list all keys and values"
   ]
  },
  {
   "cell_type": "code",
   "execution_count": 22,
   "id": "fc7a240a",
   "metadata": {},
   "outputs": [
    {
     "data": {
      "text/plain": [
       "'Darshit'"
      ]
     },
     "execution_count": 22,
     "metadata": {},
     "output_type": "execute_result"
    }
   ],
   "source": [
    "student.pop(\"SName\")                  #we have to pass key in argument"
   ]
  },
  {
   "cell_type": "code",
   "execution_count": 23,
   "id": "1faa55b8",
   "metadata": {},
   "outputs": [
    {
     "data": {
      "text/plain": [
       "{'Name': 'Dhruv', 'Age': 21, 'City': 'Ahmedabad', 'Course': 'Data Science'}"
      ]
     },
     "execution_count": 23,
     "metadata": {},
     "output_type": "execute_result"
    }
   ],
   "source": [
    "student"
   ]
  },
  {
   "cell_type": "code",
   "execution_count": 24,
   "id": "186c746b",
   "metadata": {},
   "outputs": [
    {
     "data": {
      "text/plain": [
       "('Course', 'Data Science')"
      ]
     },
     "execution_count": 24,
     "metadata": {},
     "output_type": "execute_result"
    }
   ],
   "source": [
    "student.popitem()                 #default remove last key and value pair"
   ]
  },
  {
   "cell_type": "code",
   "execution_count": 25,
   "id": "390e8a17",
   "metadata": {},
   "outputs": [
    {
     "data": {
      "text/plain": [
       "{'Name': 'Dhruv', 'Age': 21, 'City': 'Ahmedabad'}"
      ]
     },
     "execution_count": 25,
     "metadata": {},
     "output_type": "execute_result"
    }
   ],
   "source": [
    "student"
   ]
  },
  {
   "cell_type": "code",
   "execution_count": 26,
   "id": "66f79275",
   "metadata": {},
   "outputs": [
    {
     "ename": "SyntaxError",
     "evalue": "invalid syntax (2312328422.py, line 1)",
     "output_type": "error",
     "traceback": [
      "\u001b[1;36m  Cell \u001b[1;32mIn[26], line 1\u001b[1;36m\u001b[0m\n\u001b[1;33m    student.update(\"Number\":8155809591)\u001b[0m\n\u001b[1;37m                           ^\u001b[0m\n\u001b[1;31mSyntaxError\u001b[0m\u001b[1;31m:\u001b[0m invalid syntax\n"
     ]
    }
   ],
   "source": [
    "student.update(\"Number\":8155809591)        #not update  Error"
   ]
  },
  {
   "cell_type": "code",
   "execution_count": 27,
   "id": "d6513377",
   "metadata": {},
   "outputs": [],
   "source": [
    "student.update({\"Number\":8155809591})     #we have to write {} when we use update method"
   ]
  },
  {
   "cell_type": "code",
   "execution_count": 28,
   "id": "0a03185c",
   "metadata": {},
   "outputs": [
    {
     "data": {
      "text/plain": [
       "{'Name': 'Dhruv', 'Age': 21, 'City': 'Ahmedabad', 'Number': 8155809591}"
      ]
     },
     "execution_count": 28,
     "metadata": {},
     "output_type": "execute_result"
    }
   ],
   "source": [
    "student"
   ]
  },
  {
   "cell_type": "code",
   "execution_count": 29,
   "id": "c05979c7",
   "metadata": {},
   "outputs": [],
   "source": [
    "student.update({\"City\":\"Surat\",\"Course\":\"Data Eng\"})    #multiple update"
   ]
  },
  {
   "cell_type": "code",
   "execution_count": 30,
   "id": "ad4f24e9",
   "metadata": {},
   "outputs": [
    {
     "data": {
      "text/plain": [
       "{'Name': 'Dhruv',\n",
       " 'Age': 21,\n",
       " 'City': 'Surat',\n",
       " 'Number': 8155809591,\n",
       " 'Course': 'Data Eng'}"
      ]
     },
     "execution_count": 30,
     "metadata": {},
     "output_type": "execute_result"
    }
   ],
   "source": [
    "student"
   ]
  },
  {
   "cell_type": "code",
   "execution_count": 31,
   "id": "f70077d7",
   "metadata": {},
   "outputs": [
    {
     "data": {
      "text/plain": [
       "21"
      ]
     },
     "execution_count": 31,
     "metadata": {},
     "output_type": "execute_result"
    }
   ],
   "source": [
    "#Returns the value of the specified key. If the key does not exist: \n",
    "#insert the key, with the specified value\n",
    "student.setdefault(\"Age\",25)  "
   ]
  },
  {
   "cell_type": "code",
   "execution_count": 32,
   "id": "792030f9",
   "metadata": {},
   "outputs": [
    {
     "data": {
      "text/plain": [
       "{'Name': 'Dhruv',\n",
       " 'Age': 21,\n",
       " 'City': 'Surat',\n",
       " 'Number': 8155809591,\n",
       " 'Course': 'Data Eng'}"
      ]
     },
     "execution_count": 32,
     "metadata": {},
     "output_type": "execute_result"
    }
   ],
   "source": [
    "student"
   ]
  },
  {
   "cell_type": "code",
   "execution_count": 34,
   "id": "7e0bbf3c",
   "metadata": {},
   "outputs": [
    {
     "data": {
      "text/plain": [
       "'Guj'"
      ]
     },
     "execution_count": 34,
     "metadata": {},
     "output_type": "execute_result"
    }
   ],
   "source": [
    "student.setdefault(\"State\",\"Guj\")"
   ]
  },
  {
   "cell_type": "code",
   "execution_count": 35,
   "id": "d319b396",
   "metadata": {},
   "outputs": [
    {
     "data": {
      "text/plain": [
       "{'Name': 'Dhruv',\n",
       " 'Age': 21,\n",
       " 'City': 'Surat',\n",
       " 'Number': 8155809591,\n",
       " 'Course': 'Data Eng',\n",
       " 'State': 'Guj'}"
      ]
     },
     "execution_count": 35,
     "metadata": {},
     "output_type": "execute_result"
    }
   ],
   "source": [
    "student"
   ]
  },
  {
   "cell_type": "code",
   "execution_count": 36,
   "id": "0f96538c",
   "metadata": {},
   "outputs": [
    {
     "data": {
      "text/plain": [
       "{'N': None, 'a': None, 'm': None, 'e': None}"
      ]
     },
     "execution_count": 36,
     "metadata": {},
     "output_type": "execute_result"
    }
   ],
   "source": [
    "student.fromkeys(\"Name\")"
   ]
  },
  {
   "cell_type": "code",
   "execution_count": 37,
   "id": "66baeee4",
   "metadata": {},
   "outputs": [],
   "source": [
    "keys = [\"One\",\"Two\",\"Three\"]\n",
    "values = [1,2,3]"
   ]
  },
  {
   "cell_type": "code",
   "execution_count": 38,
   "id": "d96dad85",
   "metadata": {},
   "outputs": [],
   "source": [
    "dic = {}"
   ]
  },
  {
   "cell_type": "code",
   "execution_count": 39,
   "id": "f5368a4f",
   "metadata": {},
   "outputs": [
    {
     "data": {
      "text/plain": [
       "{'One': [1, 2, 3], 'Two': [1, 2, 3], 'Three': [1, 2, 3]}"
      ]
     },
     "execution_count": 39,
     "metadata": {},
     "output_type": "execute_result"
    }
   ],
   "source": [
    "#fromkeys(Key,Value)             # follow this argumets\n",
    "dic.fromkeys(keys,values)        # Returns a dictionary with the specified keys and value"
   ]
  },
  {
   "cell_type": "code",
   "execution_count": 41,
   "id": "5527601f",
   "metadata": {},
   "outputs": [],
   "source": [
    "#creating dictionary with dict keyward \n",
    "x = dict (Name = \"Dhruv\", Age = 22, City = \"Vadodara\")       "
   ]
  },
  {
   "cell_type": "code",
   "execution_count": 42,
   "id": "11cd610a",
   "metadata": {},
   "outputs": [
    {
     "data": {
      "text/plain": [
       "{'Name': 'Dhruv', 'Age': 22, 'City': 'Vadodara'}"
      ]
     },
     "execution_count": 42,
     "metadata": {},
     "output_type": "execute_result"
    }
   ],
   "source": [
    "x"
   ]
  },
  {
   "cell_type": "code",
   "execution_count": 70,
   "id": "7dbcf4b2",
   "metadata": {},
   "outputs": [
    {
     "name": "stdout",
     "output_type": "stream",
     "text": [
      "[1, 4, 9, 16, 25]\n"
     ]
    }
   ],
   "source": [
    "p = [1,2,3,4,5]\n",
    "q = []\n",
    "\n",
    "for i in p:\n",
    "    sq = i*i\n",
    "    q.append(sq)\n",
    "    \n",
    "print(q)"
   ]
  },
  {
   "cell_type": "code",
   "execution_count": 44,
   "id": "ac3b5177",
   "metadata": {},
   "outputs": [],
   "source": [
    "num_dict = { i : i**2 for i in range(1,11)}      #dictionary comprehention"
   ]
  },
  {
   "cell_type": "code",
   "execution_count": 45,
   "id": "82a864db",
   "metadata": {},
   "outputs": [
    {
     "name": "stdout",
     "output_type": "stream",
     "text": [
      "{1: 1, 2: 4, 3: 9, 4: 16, 5: 25, 6: 36, 7: 49, 8: 64, 9: 81, 10: 100}\n"
     ]
    }
   ],
   "source": [
    "print(num_dict)"
   ]
  },
  {
   "cell_type": "code",
   "execution_count": 47,
   "id": "e67ad362",
   "metadata": {},
   "outputs": [],
   "source": [
    "list1 = [1,2, [1,2, [1,2]], 6, 7, 8]          #nested list"
   ]
  },
  {
   "cell_type": "code",
   "execution_count": 49,
   "id": "4bb04799",
   "metadata": {},
   "outputs": [
    {
     "data": {
      "text/plain": [
       "1"
      ]
     },
     "execution_count": 49,
     "metadata": {},
     "output_type": "execute_result"
    }
   ],
   "source": [
    "list1[0]"
   ]
  },
  {
   "cell_type": "code",
   "execution_count": 50,
   "id": "a6e54884",
   "metadata": {},
   "outputs": [
    {
     "data": {
      "text/plain": [
       "2"
      ]
     },
     "execution_count": 50,
     "metadata": {},
     "output_type": "execute_result"
    }
   ],
   "source": [
    "list1[2][1]                #accessing nested list"
   ]
  },
  {
   "cell_type": "code",
   "execution_count": 51,
   "id": "c843d059",
   "metadata": {},
   "outputs": [
    {
     "data": {
      "text/plain": [
       "2"
      ]
     },
     "execution_count": 51,
     "metadata": {},
     "output_type": "execute_result"
    }
   ],
   "source": [
    "list1[2][2][1]"
   ]
  },
  {
   "cell_type": "code",
   "execution_count": 52,
   "id": "4d5ffb72",
   "metadata": {},
   "outputs": [],
   "source": [
    "x =  { \"Student1\" : {\"Name\" : \"Dhruv\", \"Age\" : 21},             #creating nested dictionary\n",
    "       \"Student2\" : {\"Name\" : \"Darshit\", \"Age\" : 22}\n",
    "    }"
   ]
  },
  {
   "cell_type": "code",
   "execution_count": 53,
   "id": "65ed24fc",
   "metadata": {},
   "outputs": [
    {
     "data": {
      "text/plain": [
       "{'Student1': {'Name': 'Dhruv', 'Age': 21},\n",
       " 'Student2': {'Name': 'Darshit', 'Age': 22}}"
      ]
     },
     "execution_count": 53,
     "metadata": {},
     "output_type": "execute_result"
    }
   ],
   "source": [
    "x"
   ]
  },
  {
   "cell_type": "code",
   "execution_count": 54,
   "id": "742b1318",
   "metadata": {},
   "outputs": [],
   "source": [
    "y = {\"One\" : [1,2,3,4],\n",
    "     \"Two\" : [4,5,6,7]\n",
    "    }"
   ]
  },
  {
   "cell_type": "code",
   "execution_count": 55,
   "id": "7fda503c",
   "metadata": {},
   "outputs": [
    {
     "data": {
      "text/plain": [
       "{'One': [1, 2, 3, 4], 'Two': [4, 5, 6, 7]}"
      ]
     },
     "execution_count": 55,
     "metadata": {},
     "output_type": "execute_result"
    }
   ],
   "source": [
    "y"
   ]
  },
  {
   "cell_type": "code",
   "execution_count": 59,
   "id": "3b65a5d1",
   "metadata": {},
   "outputs": [
    {
     "data": {
      "text/plain": [
       "4"
      ]
     },
     "execution_count": 59,
     "metadata": {},
     "output_type": "execute_result"
    }
   ],
   "source": [
    "y[\"One\"][3]              #accessing nested dictionary"
   ]
  },
  {
   "cell_type": "code",
   "execution_count": 60,
   "id": "80650ac4",
   "metadata": {},
   "outputs": [],
   "source": [
    "# functions in Python\n",
    "def add(a,b):\n",
    "    print(a+b)"
   ]
  },
  {
   "cell_type": "code",
   "execution_count": 61,
   "id": "8bf41107",
   "metadata": {},
   "outputs": [
    {
     "name": "stdout",
     "output_type": "stream",
     "text": [
      "79\n"
     ]
    }
   ],
   "source": [
    "add(12,67)                   #function calling"
   ]
  },
  {
   "cell_type": "code",
   "execution_count": 62,
   "id": "1f9454a2",
   "metadata": {},
   "outputs": [
    {
     "name": "stdout",
     "output_type": "stream",
     "text": [
      "Hello my First Function... non parametric function\n"
     ]
    }
   ],
   "source": [
    "def Display():                # non parametric function\n",
    "    print(\"Hello my First Function...\")\n",
    "    \n",
    "Display()"
   ]
  },
  {
   "cell_type": "code",
   "execution_count": 63,
   "id": "67d29c58",
   "metadata": {},
   "outputs": [
    {
     "name": "stdout",
     "output_type": "stream",
     "text": [
      "30\n",
      "40\n"
     ]
    }
   ],
   "source": [
    "def add(a=10,b=20):   #default arguments\n",
    "    print(a+b)\n",
    "\n",
    "add()                 #not need to pass arguments\n",
    "add(20,20)            #we can change parameters also "
   ]
  },
  {
   "cell_type": "code",
   "execution_count": 69,
   "id": "71e5ee1d",
   "metadata": {},
   "outputs": [
    {
     "name": "stdout",
     "output_type": "stream",
     "text": [
      "Enter the values of a : 12\n"
     ]
    }
   ],
   "source": [
    "#taking input from user\n",
    "#input function by default takes string input \n",
    "a = input(\"Enter the values of a : \")"
   ]
  },
  {
   "cell_type": "code",
   "execution_count": 66,
   "id": "1df6eb61",
   "metadata": {},
   "outputs": [
    {
     "name": "stdout",
     "output_type": "stream",
     "text": [
      "Enter the values of b : 34\n"
     ]
    }
   ],
   "source": [
    "b = input(\"Enter the values of b : \")"
   ]
  },
  {
   "cell_type": "code",
   "execution_count": 67,
   "id": "1237edaf",
   "metadata": {},
   "outputs": [
    {
     "data": {
      "text/plain": [
       "'1234'"
      ]
     },
     "execution_count": 67,
     "metadata": {},
     "output_type": "execute_result"
    }
   ],
   "source": [
    "a+b"
   ]
  },
  {
   "cell_type": "code",
   "execution_count": 68,
   "id": "4f99510a",
   "metadata": {},
   "outputs": [
    {
     "data": {
      "text/plain": [
       "str"
      ]
     },
     "execution_count": 68,
     "metadata": {},
     "output_type": "execute_result"
    }
   ],
   "source": [
    "type(a)"
   ]
  },
  {
   "cell_type": "code",
   "execution_count": null,
   "id": "029cff7e",
   "metadata": {},
   "outputs": [],
   "source": []
  }
 ],
 "metadata": {
  "kernelspec": {
   "display_name": "Python 3 (ipykernel)",
   "language": "python",
   "name": "python3"
  },
  "language_info": {
   "codemirror_mode": {
    "name": "ipython",
    "version": 3
   },
   "file_extension": ".py",
   "mimetype": "text/x-python",
   "name": "python",
   "nbconvert_exporter": "python",
   "pygments_lexer": "ipython3",
   "version": "3.11.4"
  }
 },
 "nbformat": 4,
 "nbformat_minor": 5
}
