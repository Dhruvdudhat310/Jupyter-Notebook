{
 "cells": [
  {
   "cell_type": "code",
   "execution_count": 1,
   "id": "872ab20c",
   "metadata": {},
   "outputs": [],
   "source": [
    "#global variable\n",
    "message = \"hello\""
   ]
  },
  {
   "cell_type": "code",
   "execution_count": 2,
   "id": "a93d2946",
   "metadata": {},
   "outputs": [],
   "source": [
    "def myfun():\n",
    "    print(message)"
   ]
  },
  {
   "cell_type": "code",
   "execution_count": 3,
   "id": "6836e338",
   "metadata": {},
   "outputs": [
    {
     "name": "stdout",
     "output_type": "stream",
     "text": [
      "hello\n"
     ]
    }
   ],
   "source": [
    "myfun()"
   ]
  },
  {
   "cell_type": "code",
   "execution_count": 4,
   "id": "ceafa31d",
   "metadata": {},
   "outputs": [],
   "source": [
    "#local variable\n",
    "def add(Y,Z):\n",
    "    print(Y+Z)"
   ]
  },
  {
   "cell_type": "code",
   "execution_count": 5,
   "id": "2b7529f6",
   "metadata": {},
   "outputs": [
    {
     "name": "stdout",
     "output_type": "stream",
     "text": [
      "68\n"
     ]
    }
   ],
   "source": [
    "add(12,56)"
   ]
  },
  {
   "cell_type": "code",
   "execution_count": 6,
   "id": "6d232dd6",
   "metadata": {},
   "outputs": [
    {
     "ename": "NameError",
     "evalue": "name 'Y' is not defined",
     "output_type": "error",
     "traceback": [
      "\u001b[1;31m---------------------------------------------------------------------------\u001b[0m",
      "\u001b[1;31mNameError\u001b[0m                                 Traceback (most recent call last)",
      "Cell \u001b[1;32mIn[6], line 1\u001b[0m\n\u001b[1;32m----> 1\u001b[0m Y\n",
      "\u001b[1;31mNameError\u001b[0m: name 'Y' is not defined"
     ]
    }
   ],
   "source": [
    "Y           #error due to accessing outside the add(Y,Z) function"
   ]
  },
  {
   "cell_type": "code",
   "execution_count": 7,
   "id": "a3879598",
   "metadata": {},
   "outputs": [],
   "source": [
    "#nested function\n",
    "def outer_fun(name):\n",
    "    print(f\"Hello {name}\")\n",
    "    def inner_fun():\n",
    "        print(\"Helllllo\")\n",
    "    inner_fun()"
   ]
  },
  {
   "cell_type": "code",
   "execution_count": 8,
   "id": "bbeeecf3",
   "metadata": {},
   "outputs": [
    {
     "name": "stdout",
     "output_type": "stream",
     "text": [
      "Hello Dhruv\n",
      "Helllllo\n"
     ]
    }
   ],
   "source": [
    "outer_fun(\"Dhruv\")"
   ]
  },
  {
   "cell_type": "code",
   "execution_count": 11,
   "id": "10342bf7",
   "metadata": {},
   "outputs": [],
   "source": [
    "def outer_fun(name):\n",
    "    def inner_fun():\n",
    "        print(f\"Hello {name}\")\n",
    "    inner_fun()"
   ]
  },
  {
   "cell_type": "code",
   "execution_count": 12,
   "id": "f018af14",
   "metadata": {},
   "outputs": [
    {
     "name": "stdout",
     "output_type": "stream",
     "text": [
      "Hello Dhruv\n"
     ]
    }
   ],
   "source": [
    "outer_fun(\"Dhruv\")"
   ]
  },
  {
   "cell_type": "code",
   "execution_count": 13,
   "id": "50095bbc",
   "metadata": {},
   "outputs": [],
   "source": [
    "def outer_fun(X):\n",
    "    def inner_fun(Y):\n",
    "        print(X+Y)\n",
    "    inner_fun(34)"
   ]
  },
  {
   "cell_type": "code",
   "execution_count": 14,
   "id": "91111548",
   "metadata": {},
   "outputs": [
    {
     "name": "stdout",
     "output_type": "stream",
     "text": [
      "46\n"
     ]
    }
   ],
   "source": [
    "outer_fun(12)"
   ]
  },
  {
   "cell_type": "code",
   "execution_count": 24,
   "id": "56259e5b",
   "metadata": {},
   "outputs": [],
   "source": [
    "# return and print \n",
    "def add(a,b):\n",
    "    print(a+b)\n",
    "    return a+b"
   ]
  },
  {
   "cell_type": "code",
   "execution_count": 25,
   "id": "2e3d52fd",
   "metadata": {},
   "outputs": [
    {
     "name": "stdout",
     "output_type": "stream",
     "text": [
      "20\n"
     ]
    },
    {
     "data": {
      "text/plain": [
       "20"
      ]
     },
     "execution_count": 25,
     "metadata": {},
     "output_type": "execute_result"
    }
   ],
   "source": [
    "add(10,10)"
   ]
  },
  {
   "cell_type": "code",
   "execution_count": 26,
   "id": "b22bf765",
   "metadata": {},
   "outputs": [
    {
     "name": "stdout",
     "output_type": "stream",
     "text": [
      "20\n"
     ]
    }
   ],
   "source": [
    "a = add(10,10)"
   ]
  },
  {
   "cell_type": "code",
   "execution_count": 27,
   "id": "bd351269",
   "metadata": {},
   "outputs": [
    {
     "name": "stdout",
     "output_type": "stream",
     "text": [
      "20\n"
     ]
    }
   ],
   "source": [
    "print(a)    # if retun a+b then give value ||| and if print a+b then give none"
   ]
  },
  {
   "cell_type": "code",
   "execution_count": 32,
   "id": "2aa3fb98",
   "metadata": {},
   "outputs": [],
   "source": [
    "import math\n",
    "def area(r):\n",
    "    def peri():\n",
    "        return (math.pi*2*r)\n",
    "    c = peri()\n",
    "    print(f\"Perimeter : {c}\")\n",
    "    print(f\"Area : {c*r/2}\")"
   ]
  },
  {
   "cell_type": "code",
   "execution_count": 33,
   "id": "3b5ba6ff",
   "metadata": {
    "scrolled": true
   },
   "outputs": [
    {
     "name": "stdout",
     "output_type": "stream",
     "text": [
      "Perimeter : 31.41592653589793\n",
      "Area : 78.53981633974483\n"
     ]
    }
   ],
   "source": [
    "area(5)"
   ]
  },
  {
   "cell_type": "code",
   "execution_count": 34,
   "id": "fb744382",
   "metadata": {},
   "outputs": [],
   "source": [
    "list1 = [1,2,3,4,5]"
   ]
  },
  {
   "cell_type": "code",
   "execution_count": 35,
   "id": "4596c326",
   "metadata": {},
   "outputs": [
    {
     "name": "stdout",
     "output_type": "stream",
     "text": [
      "1\n",
      "2\n",
      "3\n",
      "4\n",
      "5\n"
     ]
    }
   ],
   "source": [
    "for i in list1:\n",
    "    print(i)"
   ]
  },
  {
   "cell_type": "code",
   "execution_count": 36,
   "id": "de755177",
   "metadata": {},
   "outputs": [],
   "source": [
    "i = iter(list1)"
   ]
  },
  {
   "cell_type": "code",
   "execution_count": 37,
   "id": "740322a8",
   "metadata": {},
   "outputs": [
    {
     "data": {
      "text/plain": [
       "1"
      ]
     },
     "execution_count": 37,
     "metadata": {},
     "output_type": "execute_result"
    }
   ],
   "source": [
    "next(i)"
   ]
  },
  {
   "cell_type": "code",
   "execution_count": 38,
   "id": "97f39444",
   "metadata": {},
   "outputs": [
    {
     "data": {
      "text/plain": [
       "2"
      ]
     },
     "execution_count": 38,
     "metadata": {},
     "output_type": "execute_result"
    }
   ],
   "source": [
    "next(i)"
   ]
  },
  {
   "cell_type": "code",
   "execution_count": 39,
   "id": "0b603e7f",
   "metadata": {},
   "outputs": [],
   "source": [
    "def __iter__():\n",
    "    return(iter(range(1,6)))"
   ]
  },
  {
   "cell_type": "code",
   "execution_count": 40,
   "id": "3e3bbf10",
   "metadata": {},
   "outputs": [],
   "source": [
    "def __next__(it):\n",
    "    next(it)"
   ]
  },
  {
   "cell_type": "code",
   "execution_count": 42,
   "id": "b54ae560",
   "metadata": {},
   "outputs": [
    {
     "ename": "TypeError",
     "evalue": "__next__() takes 0 positional arguments but 1 was given",
     "output_type": "error",
     "traceback": [
      "\u001b[1;31m---------------------------------------------------------------------------\u001b[0m",
      "\u001b[1;31mTypeError\u001b[0m                                 Traceback (most recent call last)",
      "Cell \u001b[1;32mIn[42], line 3\u001b[0m\n\u001b[0;32m      1\u001b[0m iterator \u001b[38;5;241m=\u001b[39m \u001b[38;5;21m__iter__\u001b[39m()\n\u001b[1;32m----> 3\u001b[0m \u001b[38;5;28mprint\u001b[39m(\u001b[38;5;21m__next__\u001b[39m(iterator))\n",
      "\u001b[1;31mTypeError\u001b[0m: __next__() takes 0 positional arguments but 1 was given"
     ]
    }
   ],
   "source": [
    "iterator = __iter__()\n",
    "\n",
    "print(__next__(iterator))"
   ]
  },
  {
   "cell_type": "code",
   "execution_count": 45,
   "id": "9433f88f",
   "metadata": {},
   "outputs": [],
   "source": [
    "#closure in pyton \n",
    "def outer_fun(X):\n",
    "    def inner_fun(Y):\n",
    "        return X+Y\n",
    "    return inner_fun"
   ]
  },
  {
   "cell_type": "code",
   "execution_count": 47,
   "id": "b8210aa8",
   "metadata": {},
   "outputs": [],
   "source": [
    "num = outer_fun(10)     #calling outer function "
   ]
  },
  {
   "cell_type": "code",
   "execution_count": 48,
   "id": "40f48e47",
   "metadata": {},
   "outputs": [],
   "source": [
    "rev = num(20)           #calling inner function "
   ]
  },
  {
   "cell_type": "code",
   "execution_count": 49,
   "id": "0428d22e",
   "metadata": {},
   "outputs": [
    {
     "name": "stdout",
     "output_type": "stream",
     "text": [
      "30\n"
     ]
    }
   ],
   "source": [
    "print(rev)"
   ]
  },
  {
   "cell_type": "code",
   "execution_count": 50,
   "id": "0ef055ce",
   "metadata": {},
   "outputs": [],
   "source": [
    "#passing function as perameter \n",
    "def sum(a,b):\n",
    "    print(a+b)"
   ]
  },
  {
   "cell_type": "code",
   "execution_count": 51,
   "id": "55b9b401",
   "metadata": {},
   "outputs": [],
   "source": [
    "def sumone(fun,a,b):\n",
    "    fun(a,b)"
   ]
  },
  {
   "cell_type": "code",
   "execution_count": 52,
   "id": "2b745494",
   "metadata": {},
   "outputs": [
    {
     "name": "stdout",
     "output_type": "stream",
     "text": [
      "79\n"
     ]
    }
   ],
   "source": [
    "sumone(sum,12,67)"
   ]
  },
  {
   "cell_type": "code",
   "execution_count": null,
   "id": "779e55a5",
   "metadata": {},
   "outputs": [],
   "source": []
  }
 ],
 "metadata": {
  "kernelspec": {
   "display_name": "Python 3 (ipykernel)",
   "language": "python",
   "name": "python3"
  },
  "language_info": {
   "codemirror_mode": {
    "name": "ipython",
    "version": 3
   },
   "file_extension": ".py",
   "mimetype": "text/x-python",
   "name": "python",
   "nbconvert_exporter": "python",
   "pygments_lexer": "ipython3",
   "version": "3.11.4"
  }
 },
 "nbformat": 4,
 "nbformat_minor": 5
}
