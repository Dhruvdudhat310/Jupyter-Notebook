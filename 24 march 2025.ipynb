{
 "cells": [
  {
   "cell_type": "code",
   "execution_count": 3,
   "id": "6171cb94",
   "metadata": {},
   "outputs": [
    {
     "name": "stdout",
     "output_type": "stream",
     "text": [
      "['HELLO', 'DHRUV', 'PYTHON']\n",
      "['HELLO', 'DHRUV', 'PYTHON']\n"
     ]
    }
   ],
   "source": [
    "list1 = [\"Hello\",\"Dhruv\",\"Python\"]\n",
    "\n",
    "list1 = [i.upper() for i in list1]                # Method 1\n",
    "x = list(map(lambda x : x.upper(),list1))         # Method 2\n",
    "\n",
    "print(list1)\n",
    "print(x)"
   ]
  },
  {
   "cell_type": "code",
   "execution_count": 6,
   "id": "1c8f8064",
   "metadata": {},
   "outputs": [
    {
     "name": "stdout",
     "output_type": "stream",
     "text": [
      "[2.0, 4.0, 5.0, 8.0, 9.0]\n",
      "[2.0, 4.0, 5.0, 8.0, 9.0]\n"
     ]
    }
   ],
   "source": [
    "import math as m\n",
    "list3 = [4,16,25,64,81]\n",
    "\n",
    "x1 = list(map(lambda x : m.sqrt(x),list3))        # Method 1\n",
    "x2 = list(map(lambda x : x**(1/2),list3))         # Method 2\n",
    "\n",
    "print(x1)\n",
    "print(x2)"
   ]
  },
  {
   "cell_type": "code",
   "execution_count": 7,
   "id": "722e7b5e",
   "metadata": {},
   "outputs": [],
   "source": [
    "#\n",
    "class smaple:\n",
    "    def Mymethod(self,a,b):\n",
    "        print(a+b)\n",
    "    \n",
    "    def Mymethod(self,a,b,c):\n",
    "        print(a*b*c)"
   ]
  },
  {
   "cell_type": "code",
   "execution_count": 8,
   "id": "ccfb9c6d",
   "metadata": {},
   "outputs": [],
   "source": [
    "s1 = smaple()"
   ]
  },
  {
   "cell_type": "code",
   "execution_count": 10,
   "id": "242112ac",
   "metadata": {},
   "outputs": [
    {
     "ename": "TypeError",
     "evalue": "smaple.Mymethod() missing 1 required positional argument: 'c'",
     "output_type": "error",
     "traceback": [
      "\u001b[1;31m---------------------------------------------------------------------------\u001b[0m",
      "\u001b[1;31mTypeError\u001b[0m                                 Traceback (most recent call last)",
      "Cell \u001b[1;32mIn[10], line 1\u001b[0m\n\u001b[1;32m----> 1\u001b[0m s1\u001b[38;5;241m.\u001b[39m Mymethod(\u001b[38;5;241m12\u001b[39m,\u001b[38;5;241m55\u001b[39m)\n",
      "\u001b[1;31mTypeError\u001b[0m: smaple.Mymethod() missing 1 required positional argument: 'c'"
     ]
    }
   ],
   "source": [
    "s1. Mymethod(12,55)           # Method overloading is not supported in python to achieve it we can give default parameter c"
   ]
  },
  {
   "cell_type": "code",
   "execution_count": 11,
   "id": "8ca1df18",
   "metadata": {},
   "outputs": [
    {
     "name": "stdout",
     "output_type": "stream",
     "text": [
      "210\n"
     ]
    }
   ],
   "source": [
    "s1. Mymethod(21,5,2)"
   ]
  },
  {
   "cell_type": "code",
   "execution_count": 13,
   "id": "a7551e9c",
   "metadata": {},
   "outputs": [],
   "source": [
    "# Multi-level inheritance\n",
    "class A:\n",
    "    def feature1(self):\n",
    "        print(\"hello, feature 1 from class A\")\n",
    "    def feature2(self):\n",
    "        print(\"hello, feature 2 from class B\")\n",
    "        \n",
    "class B(A):\n",
    "    def featureB(self):\n",
    "        print(\"hello, feature 1 from class B\")\n",
    "    def featureTwo(self):\n",
    "        print(\"hello, feature 2 from class B\")\n",
    "        \n",
    "class C(B):\n",
    "    def Mymethod(self):\n",
    "        print(\"hello, feature 1 from class C\")\n",
    "    def Cmethod(self):\n",
    "        print(\"hello, feature 2 from class C\")"
   ]
  },
  {
   "cell_type": "code",
   "execution_count": 14,
   "id": "66c165fe",
   "metadata": {},
   "outputs": [],
   "source": [
    "A1 = A()\n",
    "B1 = B()\n",
    "C1 = C()"
   ]
  },
  {
   "cell_type": "code",
   "execution_count": 15,
   "id": "28144cd0",
   "metadata": {},
   "outputs": [],
   "source": [
    "#A1 access methods of class A only\n",
    "#B1 access methods of class A and B\n",
    "#C1 access methods of class A, B and C"
   ]
  },
  {
   "cell_type": "code",
   "execution_count": 31,
   "id": "d6239b75",
   "metadata": {},
   "outputs": [],
   "source": [
    "#constructor working \n",
    "class A:\n",
    "    def __init__(self):\n",
    "        print(\"Constructor of A\")\n",
    "    def feature1(self):\n",
    "        print(\"hello, feature 1 from class A\")\n",
    "    def feature2(self):\n",
    "        print(\"hello, feature 2 from class B\")\n",
    "        \n",
    "class B(A):\n",
    "    def __init__(self):\n",
    "        super().__init__()\n",
    "        print(\"Constructor of B\")\n",
    "    def featureB(self):\n",
    "        print(\"hello, feature 1 from class B\")\n",
    "    def featureTwo(self):\n",
    "        print(\"hello, feature 2 from class B\")\n",
    "        \n",
    "class C(B):\n",
    "    def __init__(self):\n",
    "        super().__init__()\n",
    "        print(\"Constructor of C\")\n",
    "    def Mymethod(self):\n",
    "        print(\"hello, feature 1 from class C\")\n",
    "    def Cmethod(self):\n",
    "        print(\"hello, feature 2 from class C\")"
   ]
  },
  {
   "cell_type": "code",
   "execution_count": 32,
   "id": "767ac479",
   "metadata": {},
   "outputs": [
    {
     "name": "stdout",
     "output_type": "stream",
     "text": [
      "Constructor of A\n"
     ]
    }
   ],
   "source": [
    "A2 = A()"
   ]
  },
  {
   "cell_type": "code",
   "execution_count": 33,
   "id": "b77849cc",
   "metadata": {},
   "outputs": [
    {
     "name": "stdout",
     "output_type": "stream",
     "text": [
      "Constructor of A\n",
      "Constructor of B\n"
     ]
    }
   ],
   "source": [
    "B2 = B()"
   ]
  },
  {
   "cell_type": "code",
   "execution_count": 34,
   "id": "2ffd46a7",
   "metadata": {},
   "outputs": [
    {
     "name": "stdout",
     "output_type": "stream",
     "text": [
      "Constructor of A\n",
      "Constructor of B\n",
      "Constructor of C\n"
     ]
    }
   ],
   "source": [
    "C2 = C()"
   ]
  },
  {
   "cell_type": "code",
   "execution_count": 52,
   "id": "5b2fd12a",
   "metadata": {},
   "outputs": [],
   "source": [
    "#same method feature1 = Method overriding\n",
    "class A:\n",
    "    def __init__(self):\n",
    "        print(\"Constructor of A\")\n",
    "    def feature1(self):\n",
    "        print(\"hello, feature 1 from class A\")\n",
    "    def feature2(self):\n",
    "        print(\"hello, feature 2 from class B\")\n",
    "        \n",
    "class B(A):\n",
    "    def __init__(self):\n",
    "        super().__init__()\n",
    "        print(\"Constructor of B\")\n",
    "    def featureB(self):\n",
    "        print(\"hello, feature 1 from class B\")\n",
    "    def featureTwo(self):\n",
    "        print(\"hello, feature 2 from class B\")\n",
    "    def feature1(self):\n",
    "        super().feature1()\n",
    "        print(\"Class B\")\n",
    "        \n",
    "class C(B):\n",
    "    def __init__(self):\n",
    "        super().__init__()\n",
    "        print(\"Constructor of C\")\n",
    "    def Mymethod(self):\n",
    "        print(\"hello, feature 1 from class C\")\n",
    "    def Cmethod(self):\n",
    "        print(\"hello, feature 2 from class C\")"
   ]
  },
  {
   "cell_type": "code",
   "execution_count": 53,
   "id": "c89d20e9",
   "metadata": {},
   "outputs": [
    {
     "name": "stdout",
     "output_type": "stream",
     "text": [
      "Constructor of A\n",
      "Constructor of B\n"
     ]
    }
   ],
   "source": [
    "B3 = B()"
   ]
  },
  {
   "cell_type": "code",
   "execution_count": 47,
   "id": "7e8bdfde",
   "metadata": {},
   "outputs": [
    {
     "name": "stdout",
     "output_type": "stream",
     "text": [
      "Class B\n"
     ]
    }
   ],
   "source": [
    "B3.feature1()                         #same method \"featur1\" in both Class A and B"
   ]
  },
  {
   "cell_type": "code",
   "execution_count": 54,
   "id": "6c05edce",
   "metadata": {},
   "outputs": [
    {
     "name": "stdout",
     "output_type": "stream",
     "text": [
      "hello, feature 1 from class A\n",
      "Class B\n"
     ]
    }
   ],
   "source": [
    "B3.feature1()"
   ]
  },
  {
   "cell_type": "code",
   "execution_count": 59,
   "id": "a3083d91",
   "metadata": {},
   "outputs": [],
   "source": [
    "#abstract class\n",
    "from abc import ABC,abstractmethod"
   ]
  },
  {
   "cell_type": "code",
   "execution_count": 62,
   "id": "6e7b803c",
   "metadata": {},
   "outputs": [],
   "source": [
    "class Myclass(ABC):                #<------Abstract class\n",
    "    #@abstractmethod\n",
    "    def Mymethod(self):            # we can write body of abstract method\n",
    "        print(\"Hello\")"
   ]
  },
  {
   "cell_type": "code",
   "execution_count": 63,
   "id": "d0056497",
   "metadata": {},
   "outputs": [],
   "source": [
    "M1 = Myclass()                      #We can create object"
   ]
  },
  {
   "cell_type": "code",
   "execution_count": 64,
   "id": "5b565720",
   "metadata": {},
   "outputs": [],
   "source": [
    "M1.Mymethod()"
   ]
  },
  {
   "cell_type": "code",
   "execution_count": 65,
   "id": "bbe47368",
   "metadata": {},
   "outputs": [],
   "source": [
    "class Myclass(ABC):                #<------Abstract class\n",
    "    @abstractmethod\n",
    "    def Mymethod(self):\n",
    "        pass"
   ]
  },
  {
   "cell_type": "code",
   "execution_count": 66,
   "id": "c7a113a2",
   "metadata": {},
   "outputs": [
    {
     "ename": "NameError",
     "evalue": "name 'Mymethod' is not defined",
     "output_type": "error",
     "traceback": [
      "\u001b[1;31m---------------------------------------------------------------------------\u001b[0m",
      "\u001b[1;31mNameError\u001b[0m                                 Traceback (most recent call last)",
      "Cell \u001b[1;32mIn[66], line 1\u001b[0m\n\u001b[1;32m----> 1\u001b[0m M1 \u001b[38;5;241m=\u001b[39m Mymethod()\n",
      "\u001b[1;31mNameError\u001b[0m: name 'Mymethod' is not defined"
     ]
    }
   ],
   "source": [
    "M1 = Mymethod()                   #we can not create of abstract class"
   ]
  },
  {
   "cell_type": "code",
   "execution_count": 67,
   "id": "ebe5cf73",
   "metadata": {},
   "outputs": [],
   "source": [
    "class mysample(Myclass):\n",
    "    def Myfun(self):\n",
    "        print(\"Hello from Myclass\")"
   ]
  },
  {
   "cell_type": "code",
   "execution_count": 68,
   "id": "dbeeef62",
   "metadata": {},
   "outputs": [
    {
     "ename": "TypeError",
     "evalue": "Can't instantiate abstract class mysample with abstract method Mymethod",
     "output_type": "error",
     "traceback": [
      "\u001b[1;31m---------------------------------------------------------------------------\u001b[0m",
      "\u001b[1;31mTypeError\u001b[0m                                 Traceback (most recent call last)",
      "Cell \u001b[1;32mIn[68], line 1\u001b[0m\n\u001b[1;32m----> 1\u001b[0m mm \u001b[38;5;241m=\u001b[39m mysample()\n",
      "\u001b[1;31mTypeError\u001b[0m: Can't instantiate abstract class mysample with abstract method Mymethod"
     ]
    }
   ],
   "source": [
    "mm = mysample()                 #we have to override mymethod(self)"
   ]
  },
  {
   "cell_type": "code",
   "execution_count": 69,
   "id": "1bfb857e",
   "metadata": {},
   "outputs": [],
   "source": [
    "class mysample(Myclass):\n",
    "    def Myfun(self):\n",
    "        print(\"Hello from Myclass\")\n",
    "    def Mymethod(self):\n",
    "        print(\"Hello from Abstract class\")"
   ]
  },
  {
   "cell_type": "code",
   "execution_count": 70,
   "id": "c3628575",
   "metadata": {},
   "outputs": [],
   "source": [
    "mm = mysample()"
   ]
  },
  {
   "cell_type": "code",
   "execution_count": 71,
   "id": "747186d4",
   "metadata": {},
   "outputs": [
    {
     "name": "stdout",
     "output_type": "stream",
     "text": [
      "Hello from Myclass\n",
      "Hello from Abstract class\n"
     ]
    }
   ],
   "source": [
    "mm.Myfun()\n",
    "mm.Mymethod()"
   ]
  },
  {
   "cell_type": "code",
   "execution_count": 1,
   "id": "8e21a723",
   "metadata": {},
   "outputs": [
    {
     "name": "stdout",
     "output_type": "stream",
     "text": [
      "12\n",
      "12\n"
     ]
    }
   ],
   "source": [
    "from functools import reduce\n",
    "list11_1 = [2,3,4,5,6]\n",
    "sum1 = 0\n",
    "\n",
    "list11_2 = sum([i for i in list11_1 if i % 2 == 0])                                         # Method 1\n",
    "\n",
    "abc = reduce(lambda a, b: a + b, list(filter(lambda x: x % 2 == 0, list11_1)))              # Method 2\n",
    "\n",
    "print(list11_2)\n",
    "print(abc)"
   ]
  },
  {
   "cell_type": "code",
   "execution_count": null,
   "id": "aedc7094",
   "metadata": {},
   "outputs": [],
   "source": []
  }
 ],
 "metadata": {
  "kernelspec": {
   "display_name": "Python 3 (ipykernel)",
   "language": "python",
   "name": "python3"
  },
  "language_info": {
   "codemirror_mode": {
    "name": "ipython",
    "version": 3
   },
   "file_extension": ".py",
   "mimetype": "text/x-python",
   "name": "python",
   "nbconvert_exporter": "python",
   "pygments_lexer": "ipython3",
   "version": "3.11.4"
  }
 },
 "nbformat": 4,
 "nbformat_minor": 5
}
