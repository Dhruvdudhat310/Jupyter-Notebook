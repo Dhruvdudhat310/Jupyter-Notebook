{
 "cells": [
  {
   "cell_type": "code",
   "execution_count": 77,
   "id": "5c293e19",
   "metadata": {},
   "outputs": [
    {
     "data": {
      "text/plain": [
       "'\\ndue to methods(union,intersection) set is immutble because methods create new set and store output \\nthat not affect base set, while Add, remove affect base set so in this case set is mutable\\n'"
      ]
     },
     "execution_count": 77,
     "metadata": {},
     "output_type": "execute_result"
    }
   ],
   "source": [
    "# set {}\n",
    "# not support duplicate\n",
    "# unindexing\n",
    "# changeable or unchangeable \n",
    "\n",
    "# if methods update value in base set it is mutable [add(),update()]\n",
    "# if methods do not update in base set it is immutable [union(),intersection()] \n",
    "\n",
    "#The values True and 1 are considered the same value in sets, and are treated as duplicates\n",
    "#The values False and 0 are considered the same value in sets, and are treated as duplicates"
   ]
  },
  {
   "cell_type": "code",
   "execution_count": 39,
   "id": "eeda42c4",
   "metadata": {},
   "outputs": [],
   "source": [
    "set1 = {\"Hello\", \"Hi\", 1,2,3,4,\"Java\",\"Java\"}"
   ]
  },
  {
   "cell_type": "code",
   "execution_count": 40,
   "id": "d8bf2845",
   "metadata": {},
   "outputs": [
    {
     "name": "stdout",
     "output_type": "stream",
     "text": [
      "{'Hello', 1, 2, 3, 4, 'Hi', 'Java'}\n"
     ]
    }
   ],
   "source": [
    "print(set1)"
   ]
  },
  {
   "cell_type": "code",
   "execution_count": 41,
   "id": "58a7e9f4",
   "metadata": {},
   "outputs": [],
   "source": [
    "set2 = {\"Yellow\",\"Pink\"}"
   ]
  },
  {
   "cell_type": "code",
   "execution_count": 42,
   "id": "c505f78c",
   "metadata": {},
   "outputs": [],
   "source": [
    "set2.add(\"Magenta\")                     #add element at random location"
   ]
  },
  {
   "cell_type": "code",
   "execution_count": 43,
   "id": "ce516505",
   "metadata": {},
   "outputs": [
    {
     "data": {
      "text/plain": [
       "{'Magenta', 'Pink', 'Yellow'}"
      ]
     },
     "execution_count": 43,
     "metadata": {},
     "output_type": "execute_result"
    }
   ],
   "source": [
    "set2"
   ]
  },
  {
   "cell_type": "code",
   "execution_count": 44,
   "id": "05ab5549",
   "metadata": {},
   "outputs": [
    {
     "name": "stdout",
     "output_type": "stream",
     "text": [
      "{'Magenta', 'Pink', 'Yellow'}\n"
     ]
    }
   ],
   "source": [
    "print(set2)"
   ]
  },
  {
   "cell_type": "code",
   "execution_count": 45,
   "id": "416e76c2",
   "metadata": {},
   "outputs": [],
   "source": [
    "set2.discard(\"Pink\")                    #remove any spacific element"
   ]
  },
  {
   "cell_type": "code",
   "execution_count": 46,
   "id": "5b3137cc",
   "metadata": {},
   "outputs": [
    {
     "data": {
      "text/plain": [
       "{'Magenta', 'Yellow'}"
      ]
     },
     "execution_count": 46,
     "metadata": {},
     "output_type": "execute_result"
    }
   ],
   "source": [
    "set2"
   ]
  },
  {
   "cell_type": "code",
   "execution_count": 47,
   "id": "9dbaf29e",
   "metadata": {},
   "outputs": [
    {
     "data": {
      "text/plain": [
       "'Magenta'"
      ]
     },
     "execution_count": 47,
     "metadata": {},
     "output_type": "execute_result"
    }
   ],
   "source": [
    "set2.pop()                              #remove random element"
   ]
  },
  {
   "cell_type": "code",
   "execution_count": 48,
   "id": "87f7bcf2",
   "metadata": {},
   "outputs": [],
   "source": [
    "set2.add(\"Pink\")\n",
    "set2.add(\"Magenta\")"
   ]
  },
  {
   "cell_type": "code",
   "execution_count": 49,
   "id": "26fd3f79",
   "metadata": {},
   "outputs": [
    {
     "data": {
      "text/plain": [
       "{'Magenta', 'Pink', 'Yellow'}"
      ]
     },
     "execution_count": 49,
     "metadata": {},
     "output_type": "execute_result"
    }
   ],
   "source": [
    "set2"
   ]
  },
  {
   "cell_type": "code",
   "execution_count": 50,
   "id": "7ca5468f",
   "metadata": {},
   "outputs": [],
   "source": [
    "set2.discard(\"Dhruv\")        # not give error"
   ]
  },
  {
   "cell_type": "code",
   "execution_count": 51,
   "id": "5e697746",
   "metadata": {},
   "outputs": [
    {
     "ename": "KeyError",
     "evalue": "'Dhruv'",
     "output_type": "error",
     "traceback": [
      "\u001b[1;31m---------------------------------------------------------------------------\u001b[0m",
      "\u001b[1;31mKeyError\u001b[0m                                  Traceback (most recent call last)",
      "Cell \u001b[1;32mIn[51], line 1\u001b[0m\n\u001b[1;32m----> 1\u001b[0m set2\u001b[38;5;241m.\u001b[39m remove(\u001b[38;5;124m\"\u001b[39m\u001b[38;5;124mDhruv\u001b[39m\u001b[38;5;124m\"\u001b[39m)\n",
      "\u001b[1;31mKeyError\u001b[0m: 'Dhruv'"
     ]
    }
   ],
   "source": [
    "set2.remove(\"Dhruv\")         # give error"
   ]
  },
  {
   "cell_type": "code",
   "execution_count": 52,
   "id": "26f641f3",
   "metadata": {},
   "outputs": [],
   "source": [
    "set2.clear()          # not delete set, it gives empty set"
   ]
  },
  {
   "cell_type": "code",
   "execution_count": 53,
   "id": "488c498d",
   "metadata": {},
   "outputs": [
    {
     "data": {
      "text/plain": [
       "set()"
      ]
     },
     "execution_count": 53,
     "metadata": {},
     "output_type": "execute_result"
    }
   ],
   "source": [
    "set2           #empty set denoted with () and empty dictionary denoted with {}"
   ]
  },
  {
   "cell_type": "code",
   "execution_count": 54,
   "id": "ae7ba1cd",
   "metadata": {},
   "outputs": [],
   "source": [
    "del set2              #delete whole list variable "
   ]
  },
  {
   "cell_type": "code",
   "execution_count": 67,
   "id": "128a9eff",
   "metadata": {},
   "outputs": [],
   "source": [
    "set1 = {3,4,1,1,2,7,8,9}"
   ]
  },
  {
   "cell_type": "code",
   "execution_count": 68,
   "id": "fd318479",
   "metadata": {},
   "outputs": [],
   "source": [
    "set2 = {11,56,23,11,1,2,3,4,89}"
   ]
  },
  {
   "cell_type": "code",
   "execution_count": 57,
   "id": "1e2aca12",
   "metadata": {},
   "outputs": [
    {
     "data": {
      "text/plain": [
       "{1, 2, 3, 4, 7, 8, 9, 11, 23, 56, 89}"
      ]
     },
     "execution_count": 57,
     "metadata": {},
     "output_type": "execute_result"
    }
   ],
   "source": [
    "set1.union(set2)                  #give all values from both the set "
   ]
  },
  {
   "cell_type": "code",
   "execution_count": 58,
   "id": "5c4542aa",
   "metadata": {},
   "outputs": [
    {
     "data": {
      "text/plain": [
       "{1, 2, 3, 4}"
      ]
     },
     "execution_count": 58,
     "metadata": {},
     "output_type": "execute_result"
    }
   ],
   "source": [
    "set1.intersection(set2)          #gives common values from both the set"
   ]
  },
  {
   "cell_type": "code",
   "execution_count": 59,
   "id": "00818f3b",
   "metadata": {},
   "outputs": [
    {
     "data": {
      "text/plain": [
       "{1, 2, 3, 4}"
      ]
     },
     "execution_count": 59,
     "metadata": {},
     "output_type": "execute_result"
    }
   ],
   "source": [
    "set1.intersection_update(set2)       #update the value in set1 \n",
    "set1"
   ]
  },
  {
   "cell_type": "code",
   "execution_count": 63,
   "id": "c82e8b83",
   "metadata": {},
   "outputs": [
    {
     "data": {
      "text/plain": [
       "{7, 8, 9}"
      ]
     },
     "execution_count": 63,
     "metadata": {},
     "output_type": "execute_result"
    }
   ],
   "source": [
    "set1.difference(set2)               #values that are present in set1 but not in set2"
   ]
  },
  {
   "cell_type": "code",
   "execution_count": 64,
   "id": "5c710e96",
   "metadata": {},
   "outputs": [
    {
     "data": {
      "text/plain": [
       "{7, 8, 9, 11, 23, 56, 89}"
      ]
     },
     "execution_count": 64,
     "metadata": {},
     "output_type": "execute_result"
    }
   ],
   "source": [
    "set1.symmetric_difference(set2)              #create new set (immutable)"
   ]
  },
  {
   "cell_type": "code",
   "execution_count": 65,
   "id": "ed684f77",
   "metadata": {},
   "outputs": [],
   "source": [
    "set1.symmetric_difference_update(set2)        #update the base set1 (mutable)"
   ]
  },
  {
   "cell_type": "code",
   "execution_count": 66,
   "id": "aeff9294",
   "metadata": {},
   "outputs": [
    {
     "data": {
      "text/plain": [
       "{7, 8, 9, 11, 23, 56, 89}"
      ]
     },
     "execution_count": 66,
     "metadata": {},
     "output_type": "execute_result"
    }
   ],
   "source": [
    "set1"
   ]
  },
  {
   "cell_type": "code",
   "execution_count": 69,
   "id": "9b7ead29",
   "metadata": {},
   "outputs": [],
   "source": [
    "set1 = {1,2,3,4}"
   ]
  },
  {
   "cell_type": "code",
   "execution_count": 70,
   "id": "59acb10f",
   "metadata": {},
   "outputs": [],
   "source": [
    "set2 = {7,8,9,10,11,1,2,3,4}"
   ]
  },
  {
   "cell_type": "code",
   "execution_count": 71,
   "id": "febf6966",
   "metadata": {},
   "outputs": [
    {
     "data": {
      "text/plain": [
       "True"
      ]
     },
     "execution_count": 71,
     "metadata": {},
     "output_type": "execute_result"
    }
   ],
   "source": [
    "set1.issubset(set2)         #check wheather set1 is present in set2 or not"
   ]
  },
  {
   "cell_type": "code",
   "execution_count": 72,
   "id": "a6244981",
   "metadata": {},
   "outputs": [
    {
     "data": {
      "text/plain": [
       "False"
      ]
     },
     "execution_count": 72,
     "metadata": {},
     "output_type": "execute_result"
    }
   ],
   "source": [
    "set1.isdisjoint(set2)       #intersection is null than it is true "
   ]
  },
  {
   "cell_type": "code",
   "execution_count": 73,
   "id": "c0f48be9",
   "metadata": {},
   "outputs": [],
   "source": [
    "set1 = {1,2,3,4}"
   ]
  },
  {
   "cell_type": "code",
   "execution_count": 74,
   "id": "cc2e1a53",
   "metadata": {},
   "outputs": [
    {
     "data": {
      "text/plain": [
       "False"
      ]
     },
     "execution_count": 74,
     "metadata": {},
     "output_type": "execute_result"
    }
   ],
   "source": [
    "set1.issuperset(set2)          "
   ]
  },
  {
   "cell_type": "code",
   "execution_count": 75,
   "id": "3d6fdb03",
   "metadata": {},
   "outputs": [
    {
     "data": {
      "text/plain": [
       "True"
      ]
     },
     "execution_count": 75,
     "metadata": {},
     "output_type": "execute_result"
    }
   ],
   "source": [
    "set2.issuperset(set1)"
   ]
  },
  {
   "cell_type": "code",
   "execution_count": 76,
   "id": "46bafb8a",
   "metadata": {},
   "outputs": [
    {
     "data": {
      "text/plain": [
       "True"
      ]
     },
     "execution_count": 76,
     "metadata": {},
     "output_type": "execute_result"
    }
   ],
   "source": [
    "set2.issuperset(set2)"
   ]
  },
  {
   "cell_type": "code",
   "execution_count": 78,
   "id": "cf31ebb5",
   "metadata": {},
   "outputs": [],
   "source": [
    "list1 = []"
   ]
  },
  {
   "cell_type": "code",
   "execution_count": 79,
   "id": "4cab1fb6",
   "metadata": {},
   "outputs": [
    {
     "name": "stdout",
     "output_type": "stream",
     "text": [
      "[1, 2, 3, 4, 5, 6, 7, 8, 9, 10]\n"
     ]
    }
   ],
   "source": [
    "for i in range(1,11):\n",
    "    list1.append(i)\n",
    "print(list1)"
   ]
  },
  {
   "cell_type": "code",
   "execution_count": 94,
   "id": "a6d9f097",
   "metadata": {},
   "outputs": [],
   "source": [
    "#list comprehention, we must have to declare first output before for loop\n",
    "list2 = [i for i in range(1,11)]           "
   ]
  },
  {
   "cell_type": "code",
   "execution_count": 95,
   "id": "8f5e9f8b",
   "metadata": {},
   "outputs": [
    {
     "data": {
      "text/plain": [
       "[1, 2, 3, 4, 5, 6, 7, 8, 9, 10]"
      ]
     },
     "execution_count": 95,
     "metadata": {},
     "output_type": "execute_result"
    }
   ],
   "source": [
    "list2"
   ]
  },
  {
   "cell_type": "code",
   "execution_count": 96,
   "id": "d3b04cc8",
   "metadata": {},
   "outputs": [
    {
     "name": "stdout",
     "output_type": "stream",
     "text": [
      "[6, 8, 10, 12]\n"
     ]
    }
   ],
   "source": [
    "list1 = [1,2,3,4]                            #add two list and save in 3rd list\n",
    "list2 = [5,6,7,8]\n",
    "list3 = []\n",
    "\n",
    "for i in range(len(list1)):\n",
    "    list3.append(list1[i]+list2[i])\n",
    "    \n",
    "print(list3)"
   ]
  },
  {
   "cell_type": "code",
   "execution_count": 97,
   "id": "944e6ad7",
   "metadata": {},
   "outputs": [
    {
     "data": {
      "text/plain": [
       "<zip at 0x260dd977980>"
      ]
     },
     "execution_count": 97,
     "metadata": {},
     "output_type": "execute_result"
    }
   ],
   "source": [
    "zip(list1,list2)"
   ]
  },
  {
   "cell_type": "code",
   "execution_count": 98,
   "id": "628b0189",
   "metadata": {},
   "outputs": [
    {
     "name": "stdout",
     "output_type": "stream",
     "text": [
      "(1, 5)\n",
      "(2, 6)\n",
      "(3, 7)\n",
      "(4, 8)\n"
     ]
    }
   ],
   "source": [
    "for i in zip(list1,list2):           #zip is used to access index\n",
    "    print(i)"
   ]
  },
  {
   "cell_type": "code",
   "execution_count": 99,
   "id": "1b689897",
   "metadata": {},
   "outputs": [
    {
     "name": "stdout",
     "output_type": "stream",
     "text": [
      "6\n",
      "8\n",
      "10\n",
      "12\n"
     ]
    }
   ],
   "source": [
    "for i in zip(list1,list2):\n",
    "    print(sum(i))"
   ]
  },
  {
   "cell_type": "code",
   "execution_count": 100,
   "id": "741343bb",
   "metadata": {},
   "outputs": [
    {
     "name": "stdout",
     "output_type": "stream",
     "text": [
      "7\n",
      "10\n",
      "13\n",
      "16\n"
     ]
    }
   ],
   "source": [
    "list3 = [1,2,3,4]                            #addition of multiple list best way\n",
    "for i in zip(list1,list2,list3):\n",
    "    print(sum(i))"
   ]
  },
  {
   "cell_type": "code",
   "execution_count": 101,
   "id": "ff7700db",
   "metadata": {},
   "outputs": [
    {
     "name": "stdout",
     "output_type": "stream",
     "text": [
      "List before removing duplicate\n",
      "[1, 2, 1, 5, 6, 7, 7, 8, 9]\n",
      "set after removing duplicate\n",
      "{1, 2, 5, 6, 7, 8, 9}\n",
      "List without duplicate\n",
      "[1, 2, 5, 6, 7, 8, 9]\n"
     ]
    }
   ],
   "source": [
    "list1 = [1,2,1,5,6,7,7,8,9]                     #removing duplicacy from list\n",
    "print(\"List before removing duplicate\")\n",
    "print(list1)\n",
    "\n",
    "print(\"set after removing duplicate\")\n",
    "list2 = set(list1)\n",
    "print(list2)\n",
    "\n",
    "print(\"List without duplicate\")\n",
    "list3 = list(list2)\n",
    "print(list3)"
   ]
  },
  {
   "cell_type": "code",
   "execution_count": 102,
   "id": "47cde658",
   "metadata": {},
   "outputs": [
    {
     "name": "stdout",
     "output_type": "stream",
     "text": [
      "[3, 6, 11, 17, 20, 23, 25]\n"
     ]
    }
   ],
   "source": [
    "list4 = [sum(i) for i in zip(list1,list2,list3)]           #addition of three lists \n",
    "\n",
    "print(list4)"
   ]
  },
  {
   "cell_type": "code",
   "execution_count": null,
   "id": "f497a4da",
   "metadata": {},
   "outputs": [],
   "source": []
  }
 ],
 "metadata": {
  "kernelspec": {
   "display_name": "Python 3 (ipykernel)",
   "language": "python",
   "name": "python3"
  },
  "language_info": {
   "codemirror_mode": {
    "name": "ipython",
    "version": 3
   },
   "file_extension": ".py",
   "mimetype": "text/x-python",
   "name": "python",
   "nbconvert_exporter": "python",
   "pygments_lexer": "ipython3",
   "version": "3.11.4"
  }
 },
 "nbformat": 4,
 "nbformat_minor": 5
}
